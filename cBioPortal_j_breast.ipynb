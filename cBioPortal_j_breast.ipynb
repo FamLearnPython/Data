{
 "cells": [
  {
   "cell_type": "code",
   "execution_count": 3,
   "id": "f236bc30",
   "metadata": {},
   "outputs": [
    {
     "name": "stdout",
     "output_type": "stream",
     "text": [
      "Successfully made csv file\n"
     ]
    }
   ],
   "source": [
    "import pandas as pd\n",
    "#tsv_file=('C:\\\\Users\\\\rratnappan\\\\Documents\\\\Test_Data_Python\\\\cBioPortal\\\\j_breast\\\\j_breast_cancer.tsv')\n",
    "#csv_table=pd.read_table(tsv_file,sep='\\t')\n",
    "3csv_table.to_csv('C:\\\\Users\\\\rratnappan\\\\Documents\\\\Test_Data_Python\\\\cBioPortal\\\\j_breast\\\\j_breast_cancer.csv',index=False)\n",
    "#print(\"Successfully made csv file\")"
   ]
  },
  {
   "cell_type": "code",
   "execution_count": 5,
   "id": "1592dd75",
   "metadata": {},
   "outputs": [],
   "source": [
    "#j_breast_cancer = pd.read_csv('C:\\\\Users\\\\rratnappan\\\\Documents\\\\Test_Data_Python\\\\cBioPortal\\\\j_breast\\\\j_breast_cancer.csv')"
   ]
  },
  {
   "cell_type": "code",
   "execution_count": 8,
   "id": "53b11de2",
   "metadata": {},
   "outputs": [
    {
     "ename": "NameError",
     "evalue": "name 'j_breast_cancer' is not defined",
     "output_type": "error",
     "traceback": [
      "\u001b[1;31m---------------------------------------------------------------------------\u001b[0m",
      "\u001b[1;31mNameError\u001b[0m                                 Traceback (most recent call last)",
      "Input \u001b[1;32mIn [8]\u001b[0m, in \u001b[0;36m<cell line: 1>\u001b[1;34m()\u001b[0m\n\u001b[1;32m----> 1\u001b[0m \u001b[43mj_breast_cancer\u001b[49m\u001b[38;5;241m.\u001b[39mhead()\n",
      "\u001b[1;31mNameError\u001b[0m: name 'j_breast_cancer' is not defined"
     ]
    }
   ],
   "source": [
    "j_breast_cancer.head()"
   ]
  },
  {
   "cell_type": "code",
   "execution_count": null,
   "id": "bf40ff0a",
   "metadata": {},
   "outputs": [],
   "source": []
  }
 ],
 "metadata": {
  "kernelspec": {
   "display_name": "Python 3 (ipykernel)",
   "language": "python",
   "name": "python3"
  },
  "language_info": {
   "codemirror_mode": {
    "name": "ipython",
    "version": 3
   },
   "file_extension": ".py",
   "mimetype": "text/x-python",
   "name": "python",
   "nbconvert_exporter": "python",
   "pygments_lexer": "ipython3",
   "version": "3.9.12"
  }
 },
 "nbformat": 4,
 "nbformat_minor": 5
}
