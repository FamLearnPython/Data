{
 "cells": [
  {
   "cell_type": "code",
   "execution_count": 1,
   "id": "e468ea06",
   "metadata": {},
   "outputs": [],
   "source": [
    "from Bio.Seq import Seq"
   ]
  },
  {
   "cell_type": "code",
   "execution_count": 33,
   "id": "6829bfcc",
   "metadata": {},
   "outputs": [
    {
     "data": {
      "text/plain": [
       "2"
      ]
     },
     "execution_count": 33,
     "metadata": {},
     "output_type": "execute_result"
    }
   ],
   "source": [
    "R_seq=Seq(\"aaggct\")\n",
    "R_seq.count(\"g\")"
   ]
  },
  {
   "cell_type": "code",
   "execution_count": 34,
   "id": "8ff9883a",
   "metadata": {},
   "outputs": [
    {
     "name": "stdout",
     "output_type": "stream",
     "text": [
      "0 a\n",
      "1 a\n",
      "2 g\n",
      "3 g\n",
      "4 c\n",
      "5 t\n"
     ]
    }
   ],
   "source": [
    "for index, letter in enumerate(R_seq):\n",
    "    print(\"%i %s\" %(index, letter))"
   ]
  },
  {
   "cell_type": "code",
   "execution_count": 11,
   "id": "26d051e2",
   "metadata": {},
   "outputs": [
    {
     "data": {
      "text/plain": [
       "0"
      ]
     },
     "execution_count": 11,
     "metadata": {},
     "output_type": "execute_result"
    }
   ],
   "source": [
    "\"AAAA\".count(\"AAAAA\")"
   ]
  },
  {
   "cell_type": "code",
   "execution_count": 12,
   "id": "34c6f99b",
   "metadata": {},
   "outputs": [
    {
     "data": {
      "text/plain": [
       "87"
      ]
     },
     "execution_count": 12,
     "metadata": {},
     "output_type": "execute_result"
    }
   ],
   "source": [
    "len(R_seq)"
   ]
  },
  {
   "cell_type": "code",
   "execution_count": 19,
   "id": "a5249dc0",
   "metadata": {},
   "outputs": [
    {
     "data": {
      "text/plain": [
       "0"
      ]
     },
     "execution_count": 19,
     "metadata": {},
     "output_type": "execute_result"
    }
   ],
   "source": [
    "R_seq.count(\"C\")"
   ]
  },
  {
   "cell_type": "code",
   "execution_count": 36,
   "id": "1896c360",
   "metadata": {},
   "outputs": [
    {
     "data": {
      "text/plain": [
       "0.5"
      ]
     },
     "execution_count": 36,
     "metadata": {},
     "output_type": "execute_result"
    }
   ],
   "source": [
    "float(R_seq.count(\"g\") + R_seq.count(\"c\")) / len(R_seq)"
   ]
  },
  {
   "cell_type": "code",
   "execution_count": 37,
   "id": "8e07298d",
   "metadata": {},
   "outputs": [],
   "source": [
    "from Bio.Seq import Seq"
   ]
  },
  {
   "cell_type": "code",
   "execution_count": 24,
   "id": "a1d5b253",
   "metadata": {},
   "outputs": [],
   "source": [
    "from Bio.SeqUtils import GC"
   ]
  },
  {
   "cell_type": "code",
   "execution_count": 35,
   "id": "9bd603f3",
   "metadata": {},
   "outputs": [
    {
     "data": {
      "text/plain": [
       "50.0"
      ]
     },
     "execution_count": 35,
     "metadata": {},
     "output_type": "execute_result"
    }
   ],
   "source": [
    "GC(R_seq)"
   ]
  },
  {
   "cell_type": "code",
   "execution_count": 1,
   "id": "bd31f7b8",
   "metadata": {},
   "outputs": [],
   "source": [
    "from Bio.Seq import Seq"
   ]
  },
  {
   "cell_type": "code",
   "execution_count": 2,
   "id": "0e1e1a4f",
   "metadata": {},
   "outputs": [],
   "source": [
    "rseq=Seq(\"aaatttggcc\")"
   ]
  },
  {
   "cell_type": "code",
   "execution_count": 3,
   "id": "dfdacbb9",
   "metadata": {},
   "outputs": [
    {
     "data": {
      "text/plain": [
       "3"
      ]
     },
     "execution_count": 3,
     "metadata": {},
     "output_type": "execute_result"
    }
   ],
   "source": [
    "rseq.count('a')"
   ]
  },
  {
   "cell_type": "code",
   "execution_count": 4,
   "id": "2f7e9027",
   "metadata": {},
   "outputs": [
    {
     "data": {
      "text/plain": [
       "Seq('ccggtttaaa')"
      ]
     },
     "execution_count": 4,
     "metadata": {},
     "output_type": "execute_result"
    }
   ],
   "source": [
    "rseq[::-1]"
   ]
  },
  {
   "cell_type": "code",
   "execution_count": 7,
   "id": "7c52e42b",
   "metadata": {},
   "outputs": [
    {
     "data": {
      "text/plain": [
       "Seq('atg')"
      ]
     },
     "execution_count": 7,
     "metadata": {},
     "output_type": "execute_result"
    }
   ],
   "source": [
    "rseq[1::3]"
   ]
  },
  {
   "cell_type": "code",
   "execution_count": 8,
   "id": "980d0acf",
   "metadata": {},
   "outputs": [
    {
     "data": {
      "text/plain": [
       "'aaatttggcc'"
      ]
     },
     "execution_count": 8,
     "metadata": {},
     "output_type": "execute_result"
    }
   ],
   "source": [
    "str(rseq)"
   ]
  },
  {
   "cell_type": "code",
   "execution_count": 9,
   "id": "035400da",
   "metadata": {},
   "outputs": [
    {
     "name": "stdout",
     "output_type": "stream",
     "text": [
      "aaatttggcc\n"
     ]
    }
   ],
   "source": [
    "print(rseq)\n"
   ]
  },
  {
   "cell_type": "code",
   "execution_count": 11,
   "id": "a67467b2",
   "metadata": {},
   "outputs": [],
   "source": [
    "fasta = \">ramesh_sequence\\n%s\\n\" %rseq"
   ]
  },
  {
   "cell_type": "code",
   "execution_count": null,
   "id": "a92d5bcb",
   "metadata": {},
   "outputs": [],
   "source": []
  },
  {
   "cell_type": "code",
   "execution_count": 12,
   "id": "a8b1befd",
   "metadata": {},
   "outputs": [
    {
     "name": "stdout",
     "output_type": "stream",
     "text": [
      ">ramesh_sequence\n",
      "aaatttggcc\n",
      "\n"
     ]
    }
   ],
   "source": [
    "print(fasta)"
   ]
  },
  {
   "cell_type": "code",
   "execution_count": 13,
   "id": "160b6433",
   "metadata": {},
   "outputs": [],
   "source": [
    "fasta = \">ramesh_sequence\\n%rseq\\n\" "
   ]
  },
  {
   "cell_type": "code",
   "execution_count": 14,
   "id": "ce020286",
   "metadata": {},
   "outputs": [
    {
     "name": "stdout",
     "output_type": "stream",
     "text": [
      ">ramesh_sequence\n",
      "%rseq\n",
      "\n"
     ]
    }
   ],
   "source": [
    "print(fasta)"
   ]
  },
  {
   "cell_type": "code",
   "execution_count": 15,
   "id": "92df620f",
   "metadata": {},
   "outputs": [],
   "source": [
    "fasta = \">ramesh_sequence\\n%s\\n\" %rseq"
   ]
  },
  {
   "cell_type": "code",
   "execution_count": 16,
   "id": "bfa231e3",
   "metadata": {},
   "outputs": [
    {
     "name": "stdout",
     "output_type": "stream",
     "text": [
      ">ramesh_sequence\n",
      "aaatttggcc\n",
      "\n"
     ]
    }
   ],
   "source": [
    "print(fasta)"
   ]
  },
  {
   "cell_type": "code",
   "execution_count": 17,
   "id": "024d3784",
   "metadata": {},
   "outputs": [
    {
     "data": {
      "text/plain": [
       "Seq('EVARKgtcactga')"
      ]
     },
     "execution_count": 17,
     "metadata": {},
     "output_type": "execute_result"
    }
   ],
   "source": [
    "protein =Seq(\"EVARK\")\n",
    "DNA =Seq(\"gtcactga\")\n",
    "protein + DNA"
   ]
  },
  {
   "cell_type": "code",
   "execution_count": 27,
   "id": "8397e634",
   "metadata": {},
   "outputs": [
    {
     "name": "stdout",
     "output_type": "stream",
     "text": [
      "gggggggggggggggggggggggggggggccccccccccccccccccccccccccccccaaaaaaaaaaaaaaaaaaaaaaaaaaatttttttttttttttttttttttttttttt\n"
     ]
    }
   ],
   "source": [
    "a=\"ggggggggggggggggggggggggggggg\"\n",
    "b=\"cccccccccccccccccccccccccccccc\"\n",
    "c='aaaaaaaaaaaaaaaaaaaaaaaaaaa'\n",
    "d=\"tttttttttttttttttttttttttttttt\"\n",
    "concatenated = a+b+c+d\n",
    "print(concatenated)"
   ]
  },
  {
   "cell_type": "code",
   "execution_count": 25,
   "id": "87306b13",
   "metadata": {},
   "outputs": [
    {
     "name": "stdout",
     "output_type": "stream",
     "text": [
      "String 1: Hello\n",
      "String 2: World\n",
      "Concatenated two different strings: HelloWorld\n"
     ]
    }
   ],
   "source": [
    "str1=\"Hello\"\n",
    "str2=\"World\"\n",
    "print (\"String 1:\",str1)\n",
    "print (\"String 2:\",str2)\n",
    "str=str1+str2\n",
    "print(\"Concatenated two different strings:\",str)"
   ]
  },
  {
   "cell_type": "code",
   "execution_count": 2,
   "id": "8a68271c",
   "metadata": {},
   "outputs": [
    {
     "name": "stdout",
     "output_type": "stream",
     "text": [
      "Requirement already satisfied: pandas-datareader in c:\\users\\rratnappan\\anaconda3\\lib\\site-packages (0.10.0)\n",
      "Requirement already satisfied: requests>=2.19.0 in c:\\users\\rratnappan\\anaconda3\\lib\\site-packages (from pandas-datareader) (2.27.1)\n",
      "Requirement already satisfied: pandas>=0.23 in c:\\users\\rratnappan\\anaconda3\\lib\\site-packages (from pandas-datareader) (1.4.2)\n",
      "Requirement already satisfied: lxml in c:\\users\\rratnappan\\anaconda3\\lib\\site-packages (from pandas-datareader) (4.8.0)\n",
      "Requirement already satisfied: python-dateutil>=2.8.1 in c:\\users\\rratnappan\\anaconda3\\lib\\site-packages (from pandas>=0.23->pandas-datareader) (2.8.2)\n",
      "Requirement already satisfied: pytz>=2020.1 in c:\\users\\rratnappan\\anaconda3\\lib\\site-packages (from pandas>=0.23->pandas-datareader) (2021.3)\n",
      "Requirement already satisfied: numpy>=1.18.5 in c:\\users\\rratnappan\\anaconda3\\lib\\site-packages (from pandas>=0.23->pandas-datareader) (1.21.5)\n",
      "Requirement already satisfied: six>=1.5 in c:\\users\\rratnappan\\anaconda3\\lib\\site-packages (from python-dateutil>=2.8.1->pandas>=0.23->pandas-datareader) (1.16.0)\n",
      "Requirement already satisfied: idna<4,>=2.5 in c:\\users\\rratnappan\\anaconda3\\lib\\site-packages (from requests>=2.19.0->pandas-datareader) (3.3)\n",
      "Requirement already satisfied: urllib3<1.27,>=1.21.1 in c:\\users\\rratnappan\\anaconda3\\lib\\site-packages (from requests>=2.19.0->pandas-datareader) (1.26.9)\n",
      "Requirement already satisfied: certifi>=2017.4.17 in c:\\users\\rratnappan\\anaconda3\\lib\\site-packages (from requests>=2.19.0->pandas-datareader) (2021.10.8)\n",
      "Requirement already satisfied: charset-normalizer~=2.0.0 in c:\\users\\rratnappan\\anaconda3\\lib\\site-packages (from requests>=2.19.0->pandas-datareader) (2.0.4)\n",
      "Note: you may need to restart the kernel to use updated packages.\n"
     ]
    }
   ],
   "source": [
    "pip install pandas-datareader"
   ]
  },
  {
   "cell_type": "code",
   "execution_count": 1,
   "id": "21136d76",
   "metadata": {},
   "outputs": [],
   "source": [
    "import pandas as pd\n",
    "import pandas_datareader as pdr"
   ]
  },
  {
   "cell_type": "code",
   "execution_count": 5,
   "id": "6660d008",
   "metadata": {},
   "outputs": [],
   "source": [
    "from Bio.Sequencing.Applications import BwaIndexCommandline"
   ]
  },
  {
   "cell_type": "code",
   "execution_count": 6,
   "id": "b6651cb8",
   "metadata": {},
   "outputs": [],
   "source": [
    "import sys\n",
    "import os"
   ]
  },
  {
   "cell_type": "code",
   "execution_count": null,
   "id": "0e160a2b",
   "metadata": {},
   "outputs": [],
   "source": []
  }
 ],
 "metadata": {
  "kernelspec": {
   "display_name": "Python 3 (ipykernel)",
   "language": "python",
   "name": "python3"
  },
  "language_info": {
   "codemirror_mode": {
    "name": "ipython",
    "version": 3
   },
   "file_extension": ".py",
   "mimetype": "text/x-python",
   "name": "python",
   "nbconvert_exporter": "python",
   "pygments_lexer": "ipython3",
   "version": "3.9.12"
  }
 },
 "nbformat": 4,
 "nbformat_minor": 5
}
