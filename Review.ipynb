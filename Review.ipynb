{
 "cells": [
  {
   "cell_type": "code",
   "execution_count": 3,
   "id": "2d39f5ea",
   "metadata": {},
   "outputs": [
    {
     "name": "stdout",
     "output_type": "stream",
     "text": [
      "y\n"
     ]
    }
   ],
   "source": [
    "if 'Ramesh' in ['Ramesh', 't', 'x']:\n",
    "    print('y')"
   ]
  },
  {
   "cell_type": "code",
   "execution_count": 7,
   "id": "2beaf8bd",
   "metadata": {},
   "outputs": [
    {
     "name": "stdout",
     "output_type": "stream",
     "text": [
      "looks good\n"
     ]
    }
   ],
   "source": [
    "a = 10\n",
    "b = 12\n",
    "c = 13\n",
    "\n",
    "if (a > 20):\n",
    "    print ('a greater than b')\n",
    "    if (b>30):\n",
    "        print (\"b greater than a\")\n",
    "        if (c>20):\n",
    "            print(\"b greater than c\")\n",
    "else:\n",
    "    print ('looks good')"
   ]
  },
  {
   "cell_type": "code",
   "execution_count": 18,
   "id": "6b49243b",
   "metadata": {},
   "outputs": [
    {
     "data": {
      "text/plain": [
       "'Sayeepu'"
      ]
     },
     "execution_count": 18,
     "metadata": {},
     "output_type": "execute_result"
    }
   ],
   "source": [
    "def Jack(Rum):\n",
    "    if ( Rum > 10):\n",
    "        return (\"Sayeepu\")\n",
    "        \n",
    "Jack(12)\n",
    "    \n",
    "\n",
    "    "
   ]
  },
  {
   "cell_type": "code",
   "execution_count": 2,
   "id": "2ca9b624",
   "metadata": {},
   "outputs": [
    {
     "ename": "TypeError",
     "evalue": "DNA() missing 1 required positional argument: 'ATG'",
     "output_type": "error",
     "traceback": [
      "\u001b[1;31m---------------------------------------------------------------------------\u001b[0m",
      "\u001b[1;31mTypeError\u001b[0m                                 Traceback (most recent call last)",
      "Input \u001b[1;32mIn [2]\u001b[0m, in \u001b[0;36m<cell line: 5>\u001b[1;34m()\u001b[0m\n\u001b[0;32m      2\u001b[0m     \u001b[38;5;28;01mif\u001b[39;00m ATG \u001b[38;5;129;01min\u001b[39;00m [ATGTAGTAAGATCAGGGGCTAGCT]:\n\u001b[0;32m      3\u001b[0m         \u001b[38;5;28;01mreturn\u001b[39;00m (giga)\n\u001b[1;32m----> 5\u001b[0m \u001b[43mDNA\u001b[49m\u001b[43m(\u001b[49m\u001b[43m)\u001b[49m\n",
      "\u001b[1;31mTypeError\u001b[0m: DNA() missing 1 required positional argument: 'ATG'"
     ]
    }
   ],
   "source": [
    "def DNA(ATG):\n",
    "    if ATG in [ATGTAGTAAGATCAGGGGCTAGCT:\n",
    "        return (giga)\n",
    "\n",
    "DNA()\n",
    "    "
   ]
  },
  {
   "cell_type": "code",
   "execution_count": 42,
   "id": "5829e1cc",
   "metadata": {},
   "outputs": [
    {
     "data": {
      "text/plain": [
       "10000"
      ]
     },
     "execution_count": 42,
     "metadata": {},
     "output_type": "execute_result"
    }
   ],
   "source": [
    "def f(y):\n",
    "    return y**2\n",
    "f(100)"
   ]
  },
  {
   "cell_type": "code",
   "execution_count": 53,
   "id": "661ad206",
   "metadata": {},
   "outputs": [
    {
     "data": {
      "text/plain": [
       "'tening'"
      ]
     },
     "execution_count": 53,
     "metadata": {},
     "output_type": "execute_result"
    }
   ],
   "source": [
    "def ing(prefix):\n",
    "    return prefix + \"ing\"\n",
    "ing('ten')\n"
   ]
  },
  {
   "cell_type": "code",
   "execution_count": 62,
   "id": "0a2098a7",
   "metadata": {},
   "outputs": [
    {
     "name": "stdout",
     "output_type": "stream",
     "text": [
      "1009\n"
     ]
    }
   ],
   "source": [
    "i=0\n",
    "for i in range (1, 1000):\n",
    "     i = i+10\n",
    "print(i)"
   ]
  },
  {
   "cell_type": "code",
   "execution_count": 68,
   "id": "aaf3b707",
   "metadata": {},
   "outputs": [
    {
     "data": {
      "text/plain": [
       "1"
      ]
     },
     "execution_count": 68,
     "metadata": {},
     "output_type": "execute_result"
    }
   ],
   "source": [
    "a = [10, 20, 300]\n",
    "b = [1, 2, 3]\n",
    "c = [1, 1, 1]\n",
    "\n",
    "def sum(list):\n",
    "    output = 0\n",
    "    for i in range(len(list)):\n",
    "        output += list[output]\n",
    "        return(output)\n",
    "sum(b)"
   ]
  },
  {
   "cell_type": "code",
   "execution_count": 1,
   "id": "2a21ad22",
   "metadata": {},
   "outputs": [],
   "source": [
    "import os\n",
    "import xlrd\n",
    "import pandas as pd\n",
    "import matplotlib.pyplot as plt\n",
    "import numpy as np\n",
    "import seaborn as sns\n",
    "import ntpath\n",
    "import matplotlib as mpl\n",
    "import glob\n",
    "import requests\n",
    "#import seq_Analysis_Fx as sq\n",
    "from scipy import stats\n",
    "import urllib.request\n",
    "from xml.dom import minidom\n",
    "#import alteration_analysis as alt\n",
    "#import hamdist as ham"
   ]
  },
  {
   "cell_type": "code",
   "execution_count": null,
   "id": "9bb1021b",
   "metadata": {},
   "outputs": [],
   "source": []
  },
  {
   "cell_type": "code",
   "execution_count": null,
   "id": "036036db",
   "metadata": {},
   "outputs": [],
   "source": [
    "samples['Source'] = 'PMC'\n",
    "samples.loc[samples[~samples.index.str.contains('PMC')].index,'Source'] = samples[~samples.index.str.contains('PMC')].index.str.split('_').map(lambda x:x[0])\n",
    "samples.loc[samples[samples['Source'].str.contains('1121288')].index,'Source'] = 'ORD-1121288-01'#correct sample name\n",
    "samples = samples.merge(sample_TF,on='Source',how='left').set_index('Sample_Name')\n"
   ]
  }
 ],
 "metadata": {
  "kernelspec": {
   "display_name": "Python 3 (ipykernel)",
   "language": "python",
   "name": "python3"
  },
  "language_info": {
   "codemirror_mode": {
    "name": "ipython",
    "version": 3
   },
   "file_extension": ".py",
   "mimetype": "text/x-python",
   "name": "python",
   "nbconvert_exporter": "python",
   "pygments_lexer": "ipython3",
   "version": "3.9.12"
  }
 },
 "nbformat": 4,
 "nbformat_minor": 5
}
