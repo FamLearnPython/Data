{
 "cells": [
  {
   "cell_type": "code",
   "execution_count": 1,
   "id": "6de4297e",
   "metadata": {},
   "outputs": [],
   "source": [
    "import os\n",
    "import xlrd\n",
    "import pandas as pd\n",
    "import matplotlib.pyplot as plt\n",
    "import numpy as np\n",
    "import seaborn as sns\n",
    "import ntpath\n",
    "import matplotlib as mpl\n",
    "import glob\n",
    "import requests\n",
    "#import seq_Analysis_Fx as sq\n",
    "from scipy import stats\n",
    "import urllib.request\n",
    "from xml.dom import minidom\n",
    "#import alteration_analysis as alt\n",
    "#import hamdist as ham"
   ]
  },
  {
   "cell_type": "code",
   "execution_count": 2,
   "id": "124bd8f0",
   "metadata": {},
   "outputs": [],
   "source": [
    "folder = r'C:\\Users\\rratnappan\\OneDrive - Foundation Medicine Inc\\Jan2023 Precision Study (SAN-CAM)'"
   ]
  },
  {
   "cell_type": "code",
   "execution_count": 5,
   "id": "6fc77b33",
   "metadata": {},
   "outputs": [],
   "source": [
    "path =   r'C:\\Users\\rratnappan\\OneDrive - Foundation Medicine Inc\\Jan2023 Precision Study (SAN-CAM)'"
   ]
  },
  {
   "cell_type": "code",
   "execution_count": 6,
   "id": "8efe336a",
   "metadata": {},
   "outputs": [],
   "source": [
    "os.chdir(path)"
   ]
  },
  {
   "cell_type": "code",
   "execution_count": 7,
   "id": "9713d47b",
   "metadata": {},
   "outputs": [],
   "source": [
    "sample_TF = pd.read_csv(path + '\\Sample_Info.csv')\n",
    "sample_TF['Source'] = sample_TF['Source'].astype(object)"
   ]
  },
  {
   "cell_type": "code",
   "execution_count": null,
   "id": "9489e69c",
   "metadata": {},
   "outputs": [],
   "source": [
    "pipeline_dir = 'https://compbio.res.foundationmedicine.com/fo2141r-bt027-pa021-dt016-01-ae1/confera/230224_A01216_0235_BHCHMMDSX5/'"
   ]
  }
 ],
 "metadata": {
  "kernelspec": {
   "display_name": "Python 3 (ipykernel)",
   "language": "python",
   "name": "python3"
  },
  "language_info": {
   "codemirror_mode": {
    "name": "ipython",
    "version": 3
   },
   "file_extension": ".py",
   "mimetype": "text/x-python",
   "name": "python",
   "nbconvert_exporter": "python",
   "pygments_lexer": "ipython3",
   "version": "3.9.12"
  }
 },
 "nbformat": 4,
 "nbformat_minor": 5
}
