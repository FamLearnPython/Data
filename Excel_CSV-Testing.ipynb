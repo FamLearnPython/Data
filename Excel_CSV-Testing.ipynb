{
 "cells": [
  {
   "cell_type": "code",
   "execution_count": 8,
   "id": "e100b868",
   "metadata": {},
   "outputs": [],
   "source": [
    "import openpyxl\n"
   ]
  },
  {
   "cell_type": "code",
   "execution_count": 9,
   "id": "b3fea6ee",
   "metadata": {},
   "outputs": [],
   "source": [
    "import pandas as pd"
   ]
  },
  {
   "cell_type": "code",
   "execution_count": 21,
   "id": "61dffd3a",
   "metadata": {},
   "outputs": [
    {
     "name": "stdout",
     "output_type": "stream",
     "text": [
      "     Name  Age Department\n",
      "0   Arjun   19         CS\n",
      "1   Karan   20         EC\n",
      "2   Harsh   20         CS\n",
      "3  Rakesh   21         IT\n",
      "4   Namit   19         IT\n",
      "     Name            Courses\n",
      "0   Arjun  machine Learninig\n",
      "1   Harsh     OOPS with Java\n",
      "2  Rakesh    Web Development\n",
      "3   Raman     OOPS with Java\n",
      "4   Karan     Data Structure\n"
     ]
    }
   ],
   "source": [
    "df1 = pd.read_excel (r'C:\\Users\\rratnappan\\OneDrive - Foundation Medicine Inc\\Desktop\\Anaconda_Test.xlsx')\n",
    "df2 = pd.read_excel (r'C:\\Users\\rratnappan\\OneDrive - Foundation Medicine Inc\\Desktop\\Anaconda_Test2.xlsx')\n",
    "print (df1)\n",
    "print(df2)"
   ]
  },
  {
   "cell_type": "code",
   "execution_count": 22,
   "id": "0fb9e315",
   "metadata": {},
   "outputs": [
    {
     "data": {
      "text/html": [
       "<div>\n",
       "<style scoped>\n",
       "    .dataframe tbody tr th:only-of-type {\n",
       "        vertical-align: middle;\n",
       "    }\n",
       "\n",
       "    .dataframe tbody tr th {\n",
       "        vertical-align: top;\n",
       "    }\n",
       "\n",
       "    .dataframe thead th {\n",
       "        text-align: right;\n",
       "    }\n",
       "</style>\n",
       "<table border=\"1\" class=\"dataframe\">\n",
       "  <thead>\n",
       "    <tr style=\"text-align: right;\">\n",
       "      <th></th>\n",
       "      <th>Name</th>\n",
       "      <th>Age</th>\n",
       "      <th>Department</th>\n",
       "      <th>Courses</th>\n",
       "    </tr>\n",
       "  </thead>\n",
       "  <tbody>\n",
       "    <tr>\n",
       "      <th>0</th>\n",
       "      <td>Arjun</td>\n",
       "      <td>19</td>\n",
       "      <td>CS</td>\n",
       "      <td>machine Learninig</td>\n",
       "    </tr>\n",
       "    <tr>\n",
       "      <th>1</th>\n",
       "      <td>Karan</td>\n",
       "      <td>20</td>\n",
       "      <td>EC</td>\n",
       "      <td>Data Structure</td>\n",
       "    </tr>\n",
       "    <tr>\n",
       "      <th>2</th>\n",
       "      <td>Harsh</td>\n",
       "      <td>20</td>\n",
       "      <td>CS</td>\n",
       "      <td>OOPS with Java</td>\n",
       "    </tr>\n",
       "    <tr>\n",
       "      <th>3</th>\n",
       "      <td>Rakesh</td>\n",
       "      <td>21</td>\n",
       "      <td>IT</td>\n",
       "      <td>Web Development</td>\n",
       "    </tr>\n",
       "  </tbody>\n",
       "</table>\n",
       "</div>"
      ],
      "text/plain": [
       "     Name  Age Department            Courses\n",
       "0   Arjun   19         CS  machine Learninig\n",
       "1   Karan   20         EC     Data Structure\n",
       "2   Harsh   20         CS     OOPS with Java\n",
       "3  Rakesh   21         IT    Web Development"
      ]
     },
     "execution_count": 22,
     "metadata": {},
     "output_type": "execute_result"
    }
   ],
   "source": [
    "inner = pd.merge(df1,\n",
    "                     df2,\n",
    "                     on = \"Name\",\n",
    "                     how = \"inner\")\n",
    "inner"
   ]
  },
  {
   "cell_type": "code",
   "execution_count": 23,
   "id": "32cb783a",
   "metadata": {},
   "outputs": [
    {
     "data": {
      "text/html": [
       "<div>\n",
       "<style scoped>\n",
       "    .dataframe tbody tr th:only-of-type {\n",
       "        vertical-align: middle;\n",
       "    }\n",
       "\n",
       "    .dataframe tbody tr th {\n",
       "        vertical-align: top;\n",
       "    }\n",
       "\n",
       "    .dataframe thead th {\n",
       "        text-align: right;\n",
       "    }\n",
       "</style>\n",
       "<table border=\"1\" class=\"dataframe\">\n",
       "  <thead>\n",
       "    <tr style=\"text-align: right;\">\n",
       "      <th></th>\n",
       "      <th>Name</th>\n",
       "      <th>Age</th>\n",
       "      <th>Department</th>\n",
       "      <th>Courses</th>\n",
       "    </tr>\n",
       "  </thead>\n",
       "  <tbody>\n",
       "    <tr>\n",
       "      <th>0</th>\n",
       "      <td>Arjun</td>\n",
       "      <td>19</td>\n",
       "      <td>CS</td>\n",
       "      <td>machine Learninig</td>\n",
       "    </tr>\n",
       "    <tr>\n",
       "      <th>1</th>\n",
       "      <td>Karan</td>\n",
       "      <td>20</td>\n",
       "      <td>EC</td>\n",
       "      <td>Data Structure</td>\n",
       "    </tr>\n",
       "    <tr>\n",
       "      <th>2</th>\n",
       "      <td>Harsh</td>\n",
       "      <td>20</td>\n",
       "      <td>CS</td>\n",
       "      <td>OOPS with Java</td>\n",
       "    </tr>\n",
       "    <tr>\n",
       "      <th>3</th>\n",
       "      <td>Rakesh</td>\n",
       "      <td>21</td>\n",
       "      <td>IT</td>\n",
       "      <td>Web Development</td>\n",
       "    </tr>\n",
       "    <tr>\n",
       "      <th>4</th>\n",
       "      <td>Namit</td>\n",
       "      <td>19</td>\n",
       "      <td>IT</td>\n",
       "      <td>NaN</td>\n",
       "    </tr>\n",
       "  </tbody>\n",
       "</table>\n",
       "</div>"
      ],
      "text/plain": [
       "     Name  Age Department            Courses\n",
       "0   Arjun   19         CS  machine Learninig\n",
       "1   Karan   20         EC     Data Structure\n",
       "2   Harsh   20         CS     OOPS with Java\n",
       "3  Rakesh   21         IT    Web Development\n",
       "4   Namit   19         IT                NaN"
      ]
     },
     "execution_count": 23,
     "metadata": {},
     "output_type": "execute_result"
    }
   ],
   "source": [
    "Left = pd.merge(df1,\n",
    "                     df2,\n",
    "                     on = \"Name\",\n",
    "                     how = \"left\")\n",
    "Left"
   ]
  },
  {
   "cell_type": "code",
   "execution_count": 24,
   "id": "8967eae9",
   "metadata": {},
   "outputs": [
    {
     "data": {
      "text/html": [
       "<div>\n",
       "<style scoped>\n",
       "    .dataframe tbody tr th:only-of-type {\n",
       "        vertical-align: middle;\n",
       "    }\n",
       "\n",
       "    .dataframe tbody tr th {\n",
       "        vertical-align: top;\n",
       "    }\n",
       "\n",
       "    .dataframe thead th {\n",
       "        text-align: right;\n",
       "    }\n",
       "</style>\n",
       "<table border=\"1\" class=\"dataframe\">\n",
       "  <thead>\n",
       "    <tr style=\"text-align: right;\">\n",
       "      <th></th>\n",
       "      <th>Name</th>\n",
       "      <th>Age</th>\n",
       "      <th>Department</th>\n",
       "      <th>Courses</th>\n",
       "    </tr>\n",
       "  </thead>\n",
       "  <tbody>\n",
       "    <tr>\n",
       "      <th>0</th>\n",
       "      <td>Arjun</td>\n",
       "      <td>19.0</td>\n",
       "      <td>CS</td>\n",
       "      <td>machine Learninig</td>\n",
       "    </tr>\n",
       "    <tr>\n",
       "      <th>1</th>\n",
       "      <td>Harsh</td>\n",
       "      <td>20.0</td>\n",
       "      <td>CS</td>\n",
       "      <td>OOPS with Java</td>\n",
       "    </tr>\n",
       "    <tr>\n",
       "      <th>2</th>\n",
       "      <td>Rakesh</td>\n",
       "      <td>21.0</td>\n",
       "      <td>IT</td>\n",
       "      <td>Web Development</td>\n",
       "    </tr>\n",
       "    <tr>\n",
       "      <th>3</th>\n",
       "      <td>Raman</td>\n",
       "      <td>NaN</td>\n",
       "      <td>NaN</td>\n",
       "      <td>OOPS with Java</td>\n",
       "    </tr>\n",
       "    <tr>\n",
       "      <th>4</th>\n",
       "      <td>Karan</td>\n",
       "      <td>20.0</td>\n",
       "      <td>EC</td>\n",
       "      <td>Data Structure</td>\n",
       "    </tr>\n",
       "  </tbody>\n",
       "</table>\n",
       "</div>"
      ],
      "text/plain": [
       "     Name   Age Department            Courses\n",
       "0   Arjun  19.0         CS  machine Learninig\n",
       "1   Harsh  20.0         CS     OOPS with Java\n",
       "2  Rakesh  21.0         IT    Web Development\n",
       "3   Raman   NaN        NaN     OOPS with Java\n",
       "4   Karan  20.0         EC     Data Structure"
      ]
     },
     "execution_count": 24,
     "metadata": {},
     "output_type": "execute_result"
    }
   ],
   "source": [
    "Right = pd.merge(df1,\n",
    "                     df2,\n",
    "                     on = \"Name\",\n",
    "                     how = \"right\")\n",
    "Right"
   ]
  },
  {
   "cell_type": "markdown",
   "id": "3a01f664",
   "metadata": {},
   "source": []
  },
  {
   "cell_type": "code",
   "execution_count": 27,
   "id": "433163b4",
   "metadata": {},
   "outputs": [
    {
     "data": {
      "text/html": [
       "<div>\n",
       "<style scoped>\n",
       "    .dataframe tbody tr th:only-of-type {\n",
       "        vertical-align: middle;\n",
       "    }\n",
       "\n",
       "    .dataframe tbody tr th {\n",
       "        vertical-align: top;\n",
       "    }\n",
       "\n",
       "    .dataframe thead th {\n",
       "        text-align: right;\n",
       "    }\n",
       "</style>\n",
       "<table border=\"1\" class=\"dataframe\">\n",
       "  <thead>\n",
       "    <tr style=\"text-align: right;\">\n",
       "      <th></th>\n",
       "      <th>Name</th>\n",
       "      <th>Age</th>\n",
       "      <th>Department</th>\n",
       "      <th>Courses</th>\n",
       "    </tr>\n",
       "  </thead>\n",
       "  <tbody>\n",
       "    <tr>\n",
       "      <th>0</th>\n",
       "      <td>Arjun</td>\n",
       "      <td>19.0</td>\n",
       "      <td>CS</td>\n",
       "      <td>machine Learninig</td>\n",
       "    </tr>\n",
       "    <tr>\n",
       "      <th>1</th>\n",
       "      <td>Karan</td>\n",
       "      <td>20.0</td>\n",
       "      <td>EC</td>\n",
       "      <td>Data Structure</td>\n",
       "    </tr>\n",
       "    <tr>\n",
       "      <th>2</th>\n",
       "      <td>Harsh</td>\n",
       "      <td>20.0</td>\n",
       "      <td>CS</td>\n",
       "      <td>OOPS with Java</td>\n",
       "    </tr>\n",
       "    <tr>\n",
       "      <th>3</th>\n",
       "      <td>Rakesh</td>\n",
       "      <td>21.0</td>\n",
       "      <td>IT</td>\n",
       "      <td>Web Development</td>\n",
       "    </tr>\n",
       "    <tr>\n",
       "      <th>4</th>\n",
       "      <td>Namit</td>\n",
       "      <td>19.0</td>\n",
       "      <td>IT</td>\n",
       "      <td>NaN</td>\n",
       "    </tr>\n",
       "    <tr>\n",
       "      <th>5</th>\n",
       "      <td>Raman</td>\n",
       "      <td>NaN</td>\n",
       "      <td>NaN</td>\n",
       "      <td>OOPS with Java</td>\n",
       "    </tr>\n",
       "  </tbody>\n",
       "</table>\n",
       "</div>"
      ],
      "text/plain": [
       "     Name   Age Department            Courses\n",
       "0   Arjun  19.0         CS  machine Learninig\n",
       "1   Karan  20.0         EC     Data Structure\n",
       "2   Harsh  20.0         CS     OOPS with Java\n",
       "3  Rakesh  21.0         IT    Web Development\n",
       "4   Namit  19.0         IT                NaN\n",
       "5   Raman   NaN        NaN     OOPS with Java"
      ]
     },
     "execution_count": 27,
     "metadata": {},
     "output_type": "execute_result"
    }
   ],
   "source": [
    "Outer = pd.merge(df1,\n",
    "                     df2,\n",
    "                     on = \"Name\",\n",
    "                     how = \"outer\")\n",
    "Outer"
   ]
  },
  {
   "cell_type": "code",
   "execution_count": 29,
   "id": "fec4d465",
   "metadata": {},
   "outputs": [],
   "source": [
    "df3=\"Outer\""
   ]
  },
  {
   "cell_type": "code",
   "execution_count": 30,
   "id": "25d8fe9c",
   "metadata": {},
   "outputs": [
    {
     "name": "stdout",
     "output_type": "stream",
     "text": [
      "Outer\n"
     ]
    }
   ],
   "source": [
    "print(df3)"
   ]
  },
  {
   "cell_type": "code",
   "execution_count": 31,
   "id": "5ea74c33",
   "metadata": {},
   "outputs": [
    {
     "data": {
      "text/html": [
       "<div>\n",
       "<style scoped>\n",
       "    .dataframe tbody tr th:only-of-type {\n",
       "        vertical-align: middle;\n",
       "    }\n",
       "\n",
       "    .dataframe tbody tr th {\n",
       "        vertical-align: top;\n",
       "    }\n",
       "\n",
       "    .dataframe thead th {\n",
       "        text-align: right;\n",
       "    }\n",
       "</style>\n",
       "<table border=\"1\" class=\"dataframe\">\n",
       "  <thead>\n",
       "    <tr style=\"text-align: right;\">\n",
       "      <th></th>\n",
       "      <th>Name</th>\n",
       "      <th>Age</th>\n",
       "      <th>Department</th>\n",
       "      <th>Courses</th>\n",
       "    </tr>\n",
       "  </thead>\n",
       "  <tbody>\n",
       "    <tr>\n",
       "      <th>0</th>\n",
       "      <td>Arjun</td>\n",
       "      <td>19.0</td>\n",
       "      <td>CS</td>\n",
       "      <td>machine Learninig</td>\n",
       "    </tr>\n",
       "    <tr>\n",
       "      <th>1</th>\n",
       "      <td>Karan</td>\n",
       "      <td>20.0</td>\n",
       "      <td>EC</td>\n",
       "      <td>Data Structure</td>\n",
       "    </tr>\n",
       "    <tr>\n",
       "      <th>2</th>\n",
       "      <td>Harsh</td>\n",
       "      <td>20.0</td>\n",
       "      <td>CS</td>\n",
       "      <td>OOPS with Java</td>\n",
       "    </tr>\n",
       "    <tr>\n",
       "      <th>3</th>\n",
       "      <td>Rakesh</td>\n",
       "      <td>21.0</td>\n",
       "      <td>IT</td>\n",
       "      <td>Web Development</td>\n",
       "    </tr>\n",
       "    <tr>\n",
       "      <th>4</th>\n",
       "      <td>Namit</td>\n",
       "      <td>19.0</td>\n",
       "      <td>IT</td>\n",
       "      <td>NaN</td>\n",
       "    </tr>\n",
       "    <tr>\n",
       "      <th>5</th>\n",
       "      <td>Raman</td>\n",
       "      <td>NaN</td>\n",
       "      <td>NaN</td>\n",
       "      <td>OOPS with Java</td>\n",
       "    </tr>\n",
       "  </tbody>\n",
       "</table>\n",
       "</div>"
      ],
      "text/plain": [
       "     Name   Age Department            Courses\n",
       "0   Arjun  19.0         CS  machine Learninig\n",
       "1   Karan  20.0         EC     Data Structure\n",
       "2   Harsh  20.0         CS     OOPS with Java\n",
       "3  Rakesh  21.0         IT    Web Development\n",
       "4   Namit  19.0         IT                NaN\n",
       "5   Raman   NaN        NaN     OOPS with Java"
      ]
     },
     "execution_count": 31,
     "metadata": {},
     "output_type": "execute_result"
    }
   ],
   "source": [
    "Outer\n"
   ]
  },
  {
   "cell_type": "code",
   "execution_count": 33,
   "id": "99799fce",
   "metadata": {},
   "outputs": [
    {
     "ename": "AttributeError",
     "evalue": "module 'pandas' has no attribute 'Dataframe'",
     "output_type": "error",
     "traceback": [
      "\u001b[1;31m---------------------------------------------------------------------------\u001b[0m",
      "\u001b[1;31mAttributeError\u001b[0m                            Traceback (most recent call last)",
      "Input \u001b[1;32mIn [33]\u001b[0m, in \u001b[0;36m<cell line: 1>\u001b[1;34m()\u001b[0m\n\u001b[1;32m----> 1\u001b[0m df3\u001b[38;5;241m-\u001b[39m\u001b[43mpd\u001b[49m\u001b[38;5;241;43m.\u001b[39;49m\u001b[43mDataframe\u001b[49m(\u001b[38;5;124m\"\u001b[39m\u001b[38;5;124mOuter\u001b[39m\u001b[38;5;124m\"\u001b[39m)\n",
      "File \u001b[1;32m~\\Anaconda3\\lib\\site-packages\\pandas\\__init__.py:261\u001b[0m, in \u001b[0;36m__getattr__\u001b[1;34m(name)\u001b[0m\n\u001b[0;32m    257\u001b[0m     \u001b[38;5;28;01mfrom\u001b[39;00m \u001b[38;5;21;01mpandas\u001b[39;00m\u001b[38;5;21;01m.\u001b[39;00m\u001b[38;5;21;01mcore\u001b[39;00m\u001b[38;5;21;01m.\u001b[39;00m\u001b[38;5;21;01marrays\u001b[39;00m\u001b[38;5;21;01m.\u001b[39;00m\u001b[38;5;21;01msparse\u001b[39;00m \u001b[38;5;28;01mimport\u001b[39;00m SparseArray \u001b[38;5;28;01mas\u001b[39;00m _SparseArray\n\u001b[0;32m    259\u001b[0m     \u001b[38;5;28;01mreturn\u001b[39;00m _SparseArray\n\u001b[1;32m--> 261\u001b[0m \u001b[38;5;28;01mraise\u001b[39;00m \u001b[38;5;167;01mAttributeError\u001b[39;00m(\u001b[38;5;124mf\u001b[39m\u001b[38;5;124m\"\u001b[39m\u001b[38;5;124mmodule \u001b[39m\u001b[38;5;124m'\u001b[39m\u001b[38;5;124mpandas\u001b[39m\u001b[38;5;124m'\u001b[39m\u001b[38;5;124m has no attribute \u001b[39m\u001b[38;5;124m'\u001b[39m\u001b[38;5;132;01m{\u001b[39;00mname\u001b[38;5;132;01m}\u001b[39;00m\u001b[38;5;124m'\u001b[39m\u001b[38;5;124m\"\u001b[39m)\n",
      "\u001b[1;31mAttributeError\u001b[0m: module 'pandas' has no attribute 'Dataframe'"
     ]
    }
   ],
   "source": [
    "df3-pd.Dataframe(\"Outer\")"
   ]
  },
  {
   "cell_type": "code",
   "execution_count": 38,
   "id": "bbd76ca1",
   "metadata": {},
   "outputs": [],
   "source": [
    "Outer.to_excel(r\"C:\\Users\\rratnappan\\OneDrive - Foundation Medicine Inc\\Desktop\\Outer.xlsx\")"
   ]
  },
  {
   "cell_type": "code",
   "execution_count": 35,
   "id": "c49c9829",
   "metadata": {},
   "outputs": [
    {
     "name": "stdout",
     "output_type": "stream",
     "text": [
      "     Name   Age Department            Courses\n",
      "0   Arjun  19.0         CS  machine Learninig\n",
      "1   Karan  20.0         EC     Data Structure\n",
      "2   Harsh  20.0         CS     OOPS with Java\n",
      "3  Rakesh  21.0         IT    Web Development\n",
      "4   Namit  19.0         IT                NaN\n",
      "5   Raman   NaN        NaN     OOPS with Java\n"
     ]
    }
   ],
   "source": [
    "print(Outer)\n"
   ]
  },
  {
   "cell_type": "code",
   "execution_count": 44,
   "id": "19ec2db9",
   "metadata": {},
   "outputs": [],
   "source": [
    "A = 10"
   ]
  },
  {
   "cell_type": "code",
   "execution_count": 45,
   "id": "297f22cd",
   "metadata": {},
   "outputs": [],
   "source": [
    "B = 20\n"
   ]
  },
  {
   "cell_type": "code",
   "execution_count": 46,
   "id": "b37c1243",
   "metadata": {},
   "outputs": [],
   "source": [
    "C = 15 "
   ]
  },
  {
   "cell_type": "code",
   "execution_count": 62,
   "id": "dac9dc36",
   "metadata": {},
   "outputs": [
    {
     "ename": "SyntaxError",
     "evalue": "invalid syntax (989575810.py, line 3)",
     "output_type": "error",
     "traceback": [
      "\u001b[1;36m  Input \u001b[1;32mIn [62]\u001b[1;36m\u001b[0m\n\u001b[1;33m    else (A<11):\u001b[0m\n\u001b[1;37m    ^\u001b[0m\n\u001b[1;31mSyntaxError\u001b[0m\u001b[1;31m:\u001b[0m invalid syntax\n"
     ]
    }
   ],
   "source": [
    "if(B == 15):\n",
    "    print(\"Karan is 15 years old\")\n",
    "    else (A<11):\n",
    "        print(\"I love you\")"
   ]
  },
  {
   "cell_type": "code",
   "execution_count": 65,
   "id": "df81e907",
   "metadata": {},
   "outputs": [
    {
     "name": "stdout",
     "output_type": "stream",
     "text": [
      "Aye Aye Captian\n"
     ]
    }
   ],
   "source": [
    "if(\"Ramesh\" in [\"Ramesh\", \"t\", \"k\"]):\n",
    "   print(\"Aye Aye Captian\")"
   ]
  },
  {
   "cell_type": "code",
   "execution_count": 77,
   "id": "d3ef93c7",
   "metadata": {},
   "outputs": [
    {
     "name": "stdout",
     "output_type": "stream",
     "text": [
      "Blackbeard is the captian\n"
     ]
    }
   ],
   "source": [
    "Black_pearl = 10\n",
    "Fly_dutchman = 19\n",
    "if(Black_pearl > Fly_dutchman):\n",
    "    print (\"jack Sparrow is the captain\")\n",
    "elif(Black_pearl == Fly_dutchman):\n",
    "    print(\"Jaggard\")\n",
    "else:\n",
    "    print (\"Blackbeard is the captian\")\n"
   ]
  },
  {
   "cell_type": "code",
   "execution_count": 151,
   "id": "0fc1c689",
   "metadata": {},
   "outputs": [
    {
     "name": "stdout",
     "output_type": "stream",
     "text": [
      "Meeting of 9 pieces of 8\n"
     ]
    }
   ],
   "source": [
    "Jack = 85\n",
    "Davy_Jones= 1000\n",
    "Blackbeard =100000\n",
    "Singapore = \"Shipwreckcove\"\n",
    "\n",
    "if (Jack < 82):\n",
    "               if (Jack > 5):\n",
    "                              if(Jack >30):                                                             \n",
    "                                            print(\"Jack is young\")\n",
    "elif(Davy_Jones >10000):\n",
    "        print(\"Davy Jones is in his locker\")\n",
    "        \n",
    "elif(Blackbeard < 10000):\n",
    "        print(\"Blackbeard is in his PJs\")\n",
    "        \n",
    "elif(Singapore == \"Shipwreckcove\"):\n",
    "        print(\"Meeting of 9 pieces of 8\")\n",
    "else: \n",
    "    print(\"All pirates drink rum\")"
   ]
  },
  {
   "cell_type": "code",
   "execution_count": 168,
   "id": "808a5536",
   "metadata": {},
   "outputs": [
    {
     "name": "stdout",
     "output_type": "stream",
     "text": [
      "Jack is wise\n"
     ]
    }
   ],
   "source": [
    "Jack = 521\n",
    "if (Jack < 82):\n",
    "    print(\"Jack is young\")\n",
    "elif(Jack>83 and Jack <500):\n",
    "    print(\"Jack is old\")\n",
    "elif(Jack > 501 and Jack <1000):\n",
    "    print(\"Jack is wise\")\n",
    "else:\n",
    "    print(\"Jack is an old tree\")\n",
    " "
   ]
  },
  {
   "cell_type": "code",
   "execution_count": 174,
   "id": "f7651d60",
   "metadata": {},
   "outputs": [
    {
     "name": "stdout",
     "output_type": "stream",
     "text": [
      "Jack is an old tree\n"
     ]
    }
   ],
   "source": [
    "Jack = 10000\n",
    "if (Jack < 82): print(\"Jack is young\")\n",
    "elif(Jack>83 and Jack <500):print(\"Jack is old\")\n",
    "elif(Jack > 501 and Jack <1000):print(\"Jack is wise\")\n",
    "else:print(\"Jack is an old tree\")\n",
    " "
   ]
  },
  {
   "cell_type": "code",
   "execution_count": 176,
   "id": "ea47b441",
   "metadata": {},
   "outputs": [
    {
     "name": "stdout",
     "output_type": "stream",
     "text": [
      "The age of Jack is:\n",
      "10000\n"
     ]
    }
   ],
   "source": [
    "if(Jack > 1001): print(\"The age of Jack is:\"); print(Jack)"
   ]
  },
  {
   "cell_type": "code",
   "execution_count": 193,
   "id": "2d297d9b",
   "metadata": {},
   "outputs": [
    {
     "name": "stdout",
     "output_type": "stream",
     "text": [
      "test\n"
     ]
    }
   ],
   "source": [
    "if (\" Sparrow\" in \"Jack Sparrow\"): print (\"Monkey\");print('Kraken')\n",
    "else: print ('test')"
   ]
  },
  {
   "cell_type": "code",
   "execution_count": 203,
   "id": "9ea3c919",
   "metadata": {},
   "outputs": [
    {
     "name": "stdout",
     "output_type": "stream",
     "text": [
      "Dave\n"
     ]
    }
   ],
   "source": [
    "if (\"Sparrow\" in \"Jack Sperrow\"): print (\"Monkey\");print('Kraken')\n",
    "elif (\"Jack\" in \"Jack Sparrow\"): print(\"Dave\")\n",
    "else:     print(\"test\")"
   ]
  },
  {
   "cell_type": "code",
   "execution_count": 2,
   "id": "118b8d39",
   "metadata": {},
   "outputs": [
    {
     "name": "stdout",
     "output_type": "stream",
     "text": [
      "Aye\n"
     ]
    }
   ],
   "source": [
    "Jack= \"Pearl\"\n",
    "Davy = \"Dutchman\"\n",
    "Dad = \"No_ship\"\n",
    "\n",
    "if (Jack==\"Pearl\" and Davy == \"Dutchman\" and Dad == \"No_ship\"):\n",
    "  print(\"Aye\")"
   ]
  },
  {
   "cell_type": "code",
   "execution_count": 9,
   "id": "e58b6874",
   "metadata": {},
   "outputs": [],
   "source": [
    "def Person():\n",
    "    print(\"Late\")"
   ]
  },
  {
   "cell_type": "code",
   "execution_count": 10,
   "id": "8fa90186",
   "metadata": {},
   "outputs": [
    {
     "name": "stdout",
     "output_type": "stream",
     "text": [
      "Late\n"
     ]
    }
   ],
   "source": [
    "Person()"
   ]
  },
  {
   "cell_type": "code",
   "execution_count": 11,
   "id": "dd7ae0e6",
   "metadata": {},
   "outputs": [],
   "source": [
    "def Jack ():\n",
    "    print (\"Jack had Rum\")"
   ]
  },
  {
   "cell_type": "code",
   "execution_count": 12,
   "id": "263ff731",
   "metadata": {},
   "outputs": [
    {
     "name": "stdout",
     "output_type": "stream",
     "text": [
      "Jack had Rum\n"
     ]
    }
   ],
   "source": [
    "Jack()"
   ]
  },
  {
   "cell_type": "code",
   "execution_count": 20,
   "id": "1551cb95",
   "metadata": {},
   "outputs": [
    {
     "ename": "SyntaxError",
     "evalue": "invalid syntax (676375266.py, line 4)",
     "output_type": "error",
     "traceback": [
      "\u001b[1;36m  Input \u001b[1;32mIn [20]\u001b[1;36m\u001b[0m\n\u001b[1;33m    if __name_ == &quot;__main_&quot;:\u001b[0m\n\u001b[1;37m                  ^\u001b[0m\n\u001b[1;31mSyntaxError\u001b[0m\u001b[1;31m:\u001b[0m invalid syntax\n"
     ]
    }
   ],
   "source": [
    "def range_from_Jack_to_Pearl (Jack, Pearl):\n",
    "    for i in range (Jack, Pearl+2):\n",
    "        print(i)\n",
    "if __name_ == &quot;__main_&quot;:\n",
    "    Jack = int(input(&quot; Enter a start number:&quot;))\n",
    "    Pearl = int(input(&quot; Enter a end number:&quot))\n",
    "    range_from_1_to_20(Jack, Pearl)"
   ]
  },
  {
   "cell_type": "code",
   "execution_count": 19,
   "id": "83ea2bdd",
   "metadata": {},
   "outputs": [
    {
     "ename": "SyntaxError",
     "evalue": "invalid syntax (461765781.py, line 6)",
     "output_type": "error",
     "traceback": [
      "\u001b[1;36m  Input \u001b[1;32mIn [19]\u001b[1;36m\u001b[0m\n\u001b[1;33m    if __name__ == &quot;__main__&quot;:\u001b[0m\n\u001b[1;37m                   ^\u001b[0m\n\u001b[1;31mSyntaxError\u001b[0m\u001b[1;31m:\u001b[0m invalid syntax\n"
     ]
    }
   ],
   "source": [
    "def range_from_start_to_end(start, end):\n",
    " \n",
    "    for i in range(start, end+1):\n",
    "        print(i)\n",
    " \n",
    "if __name__ == &quot;__main__&quot;:\n",
    "    start = int(input(&quot;Enter a start number: &quot;))\n",
    "    end = int(input(&quot;Enter an end number: &quot;))\n",
    "    # Call our function to print the ranges\n",
    "    range_from_1_to_20(start, end)"
   ]
  },
  {
   "cell_type": "code",
   "execution_count": 46,
   "id": "3a879bc3",
   "metadata": {},
   "outputs": [],
   "source": [
    "\n",
    "c = \"cats\"\n"
   ]
  },
  {
   "cell_type": "code",
   "execution_count": 49,
   "id": "2a155430",
   "metadata": {},
   "outputs": [
    {
     "name": "stdout",
     "output_type": "stream",
     "text": [
      "t\n"
     ]
    }
   ],
   "source": [
    "print (c[2])"
   ]
  },
  {
   "cell_type": "code",
   "execution_count": 55,
   "id": "8f24f4aa",
   "metadata": {},
   "outputs": [],
   "source": [
    "fifth_letter = \"MONTY\" [4]"
   ]
  },
  {
   "cell_type": "code",
   "execution_count": 58,
   "id": "25a19d15",
   "metadata": {},
   "outputs": [
    {
     "name": "stdout",
     "output_type": "stream",
     "text": [
      "Y\n"
     ]
    }
   ],
   "source": [
    "print  (fifth_letter)"
   ]
  },
  {
   "cell_type": "code",
   "execution_count": 68,
   "id": "98ce3cba",
   "metadata": {},
   "outputs": [
    {
     "data": {
      "text/plain": [
       "'3.14'"
      ]
     },
     "execution_count": 68,
     "metadata": {},
     "output_type": "execute_result"
    }
   ],
   "source": [
    "pi= (\"3.14\")\n",
    "str(pi)\n"
   ]
  },
  {
   "cell_type": "code",
   "execution_count": 96,
   "id": "f55390b0",
   "metadata": {},
   "outputs": [
    {
     "name": "stdout",
     "output_type": "stream",
     "text": [
      "THE MINISTRY OF SILLY WALKS\n"
     ]
    }
   ],
   "source": [
    "ministry = \"The Ministry of Silly Walks\"\n",
    "\n",
    "print (ministry.upper())\n"
   ]
  },
  {
   "cell_type": "code",
   "execution_count": 101,
   "id": "a4f806b0",
   "metadata": {},
   "outputs": [
    {
     "name": "stdout",
     "output_type": "stream",
     "text": [
      "03 - 6 - 2019\n"
     ]
    }
   ],
   "source": [
    "day = 6\n",
    "print (\"03 - %s - 2019\" % (day))"
   ]
  },
  {
   "cell_type": "code",
   "execution_count": 102,
   "id": "fb0221e8",
   "metadata": {},
   "outputs": [
    {
     "name": "stdout",
     "output_type": "stream",
     "text": [
      "03 - 06 - 2019\n"
     ]
    }
   ],
   "source": [
    "print (\"03 - %02d - 2019\" % (day))\n"
   ]
  },
  {
   "cell_type": "code",
   "execution_count": 108,
   "id": "82f8ef69",
   "metadata": {},
   "outputs": [
    {
     "name": "stdout",
     "output_type": "stream",
     "text": [
      "Jack now is drunk\n"
     ]
    }
   ],
   "source": [
    "T =(\"is\")\n",
    "R= (\"Jack\")\n",
    "print(\"%s now %s drunk\" %(R, T))"
   ]
  },
  {
   "cell_type": "code",
   "execution_count": 115,
   "id": "0fedc30d",
   "metadata": {},
   "outputs": [
    {
     "data": {
      "text/plain": [
       "'DELTA'"
      ]
     },
     "execution_count": 115,
     "metadata": {},
     "output_type": "execute_result"
    }
   ],
   "source": [
    "my_string = (\"delta\")\n",
    "len(my_string)\n",
    "my_string.upper()"
   ]
  },
  {
   "cell_type": "code",
   "execution_count": 119,
   "id": "fd55deaf",
   "metadata": {},
   "outputs": [
    {
     "name": "stdout",
     "output_type": "stream",
     "text": [
      "5\n",
      "DELTA\n"
     ]
    }
   ],
   "source": [
    "my_string = \"delta\"\n",
    "print(len(my_string))\n",
    "print (my_string.upper())"
   ]
  },
  {
   "cell_type": "code",
   "execution_count": 120,
   "id": "3a6dc13c",
   "metadata": {},
   "outputs": [],
   "source": [
    "from datetime import datetime"
   ]
  },
  {
   "cell_type": "code",
   "execution_count": 145,
   "id": "85052074",
   "metadata": {},
   "outputs": [],
   "source": [
    "now = datetime.now()"
   ]
  },
  {
   "cell_type": "code",
   "execution_count": 146,
   "id": "bd828e53",
   "metadata": {},
   "outputs": [
    {
     "name": "stdout",
     "output_type": "stream",
     "text": [
      "2022-07-25 17:26:50.790191\n"
     ]
    }
   ],
   "source": [
    "print(now)"
   ]
  },
  {
   "cell_type": "code",
   "execution_count": 147,
   "id": "2074b31c",
   "metadata": {},
   "outputs": [
    {
     "name": "stdout",
     "output_type": "stream",
     "text": [
      "26\n"
     ]
    }
   ],
   "source": [
    "\n",
    "print(now.minute)"
   ]
  },
  {
   "cell_type": "code",
   "execution_count": 152,
   "id": "46bdd1af",
   "metadata": {},
   "outputs": [
    {
     "name": "stdout",
     "output_type": "stream",
     "text": [
      "07/25/2022\n"
     ]
    }
   ],
   "source": [
    "from datetime import datetime\n",
    "now = datetime.now()\n",
    "print ('%02d/%02d/%04d' % (now.month, now.day, now.year))"
   ]
  },
  {
   "cell_type": "code",
   "execution_count": 154,
   "id": "cd626844",
   "metadata": {},
   "outputs": [
    {
     "data": {
      "text/plain": [
       "True"
      ]
     },
     "execution_count": 154,
     "metadata": {},
     "output_type": "execute_result"
    }
   ],
   "source": [
    "17<328"
   ]
  },
  {
   "cell_type": "code",
   "execution_count": 167,
   "id": "65c4803d",
   "metadata": {},
   "outputs": [],
   "source": [
    "if (100 == (2 * 51)):\n",
    "  bool_one = True\n",
    "else:\n",
    "  bool_one=False"
   ]
  },
  {
   "cell_type": "code",
   "execution_count": 168,
   "id": "a496bbd3",
   "metadata": {},
   "outputs": [
    {
     "name": "stdout",
     "output_type": "stream",
     "text": [
      "False\n"
     ]
    }
   ],
   "source": [
    "print (bool_one)"
   ]
  },
  {
   "cell_type": "code",
   "execution_count": 169,
   "id": "99242cda",
   "metadata": {},
   "outputs": [],
   "source": [
    "bool_one = False and False"
   ]
  },
  {
   "cell_type": "code",
   "execution_count": 170,
   "id": "dee3a3a4",
   "metadata": {},
   "outputs": [],
   "source": [
    "bool_two = -(-(-(-2))) == -2 and 4 >= 16 ** 0.5"
   ]
  },
  {
   "cell_type": "code",
   "execution_count": 172,
   "id": "0ab7a8a6",
   "metadata": {},
   "outputs": [],
   "source": [
    "bool_three = 19 % 4 != 300 / 10 / 10 and False\n",
    "\n"
   ]
  },
  {
   "cell_type": "code",
   "execution_count": 173,
   "id": "57671530",
   "metadata": {},
   "outputs": [],
   "source": [
    "bool_four = -(1 ** 2) < 2 ** 0 and 10 % 10 <= 20 - 10 * 2\n"
   ]
  },
  {
   "cell_type": "code",
   "execution_count": 176,
   "id": "4e86a2a3",
   "metadata": {},
   "outputs": [],
   "source": [
    "bool_five = True and True\n"
   ]
  },
  {
   "cell_type": "code",
   "execution_count": 177,
   "id": "2f36ac03",
   "metadata": {},
   "outputs": [
    {
     "name": "stdout",
     "output_type": "stream",
     "text": [
      "True\n",
      "False\n",
      "False\n"
     ]
    }
   ],
   "source": [
    "print(10 > 9)\n",
    "print(10 == 9)\n",
    "print(10 < 9)"
   ]
  },
  {
   "cell_type": "code",
   "execution_count": 180,
   "id": "fd517068",
   "metadata": {},
   "outputs": [
    {
     "name": "stdout",
     "output_type": "stream",
     "text": [
      "False\n"
     ]
    }
   ],
   "source": [
    "bool_three = 100**0.5 >= 50\n",
    "print(bool_three)"
   ]
  },
  {
   "cell_type": "code",
   "execution_count": 181,
   "id": "0129dffa",
   "metadata": {},
   "outputs": [
    {
     "name": "stdout",
     "output_type": "stream",
     "text": [
      "False\n"
     ]
    }
   ],
   "source": [
    "bool_five = 1**100 == 100**1 or 3*2 *1 != 3+2+1\n",
    "print(bool_five)"
   ]
  },
  {
   "cell_type": "code",
   "execution_count": 188,
   "id": "0a108bc3",
   "metadata": {},
   "outputs": [
    {
     "name": "stdout",
     "output_type": "stream",
     "text": [
      "True\n"
     ]
    }
   ],
   "source": [
    "bool_one = 2**3 == 108 % 100 or 4 == 5\n",
    "print(bool_one)"
   ]
  },
  {
   "cell_type": "code",
   "execution_count": 189,
   "id": "f3478526",
   "metadata": {},
   "outputs": [],
   "source": [
    "bool_one = not True"
   ]
  },
  {
   "cell_type": "code",
   "execution_count": 190,
   "id": "5e1e9050",
   "metadata": {},
   "outputs": [
    {
     "name": "stdout",
     "output_type": "stream",
     "text": [
      "False\n"
     ]
    }
   ],
   "source": [
    "print(bool_one)"
   ]
  },
  {
   "cell_type": "code",
   "execution_count": 191,
   "id": "296e1cc9",
   "metadata": {},
   "outputs": [],
   "source": [
    "bool_2 = not 3 ** 4 < 4 ** 3"
   ]
  },
  {
   "cell_type": "code",
   "execution_count": 192,
   "id": "9834b91a",
   "metadata": {},
   "outputs": [
    {
     "name": "stdout",
     "output_type": "stream",
     "text": [
      "True\n"
     ]
    }
   ],
   "source": [
    "print(bool_2)"
   ]
  },
  {
   "cell_type": "code",
   "execution_count": 194,
   "id": "23efe3b3",
   "metadata": {},
   "outputs": [
    {
     "name": "stdout",
     "output_type": "stream",
     "text": [
      "True\n"
     ]
    }
   ],
   "source": [
    "bool_three = not 10 % 3 <= 10 % 2\n",
    "print(bool_three)"
   ]
  },
  {
   "cell_type": "code",
   "execution_count": 195,
   "id": "2e6fbecd",
   "metadata": {},
   "outputs": [],
   "source": [
    "bool_four  = not 3 ** 2 + 4 ** 2 != 5 ** 2"
   ]
  },
  {
   "cell_type": "code",
   "execution_count": 197,
   "id": "a91876fa",
   "metadata": {},
   "outputs": [
    {
     "name": "stdout",
     "output_type": "stream",
     "text": [
      "True\n"
     ]
    }
   ],
   "source": [
    "print(bool_four)"
   ]
  },
  {
   "cell_type": "code",
   "execution_count": 198,
   "id": "2eaecfb7",
   "metadata": {},
   "outputs": [],
   "source": [
    "bool_five = not not False\n"
   ]
  },
  {
   "cell_type": "code",
   "execution_count": 199,
   "id": "336b0a40",
   "metadata": {},
   "outputs": [
    {
     "name": "stdout",
     "output_type": "stream",
     "text": [
      "False\n"
     ]
    }
   ],
   "source": [
    "print(bool_five)"
   ]
  },
  {
   "cell_type": "code",
   "execution_count": 200,
   "id": "bd4e557d",
   "metadata": {},
   "outputs": [
    {
     "name": "stdout",
     "output_type": "stream",
     "text": [
      "True\n",
      "True\n"
     ]
    }
   ],
   "source": [
    "x = \"Hello\"\n",
    "y = 15\n",
    "\n",
    "print(bool(x))\n",
    "print(bool(y))"
   ]
  },
  {
   "cell_type": "code",
   "execution_count": 201,
   "id": "598736e1",
   "metadata": {},
   "outputs": [
    {
     "name": "stdout",
     "output_type": "stream",
     "text": [
      "True\n",
      "True\n"
     ]
    }
   ],
   "source": [
    "print(bool(\"Hello\"))\n",
    "print(bool(15))"
   ]
  },
  {
   "cell_type": "code",
   "execution_count": 210,
   "id": "d92970b5",
   "metadata": {},
   "outputs": [
    {
     "data": {
      "text/plain": [
       "True"
      ]
     },
     "execution_count": 210,
     "metadata": {},
     "output_type": "execute_result"
    }
   ],
   "source": [
    "bool('abc')\n",
    "bool(123)\n",
    "bool([0, \"cherry\", \"banana\"])"
   ]
  },
  {
   "cell_type": "code",
   "execution_count": 215,
   "id": "643161f0",
   "metadata": {},
   "outputs": [
    {
     "data": {
      "text/plain": [
       "False"
      ]
     },
     "execution_count": 215,
     "metadata": {},
     "output_type": "execute_result"
    }
   ],
   "source": [
    "\n",
    "bool(())\n",
    "bool([])\n",
    "bool({})\n",
    "\n",
    "\n"
   ]
  },
  {
   "cell_type": "code",
   "execution_count": 219,
   "id": "e3c7eb9b",
   "metadata": {},
   "outputs": [
    {
     "ename": "IndentationError",
     "evalue": "expected an indented block (2542803824.py, line 2)",
     "output_type": "error",
     "traceback": [
      "\u001b[1;36m  Input \u001b[1;32mIn [219]\u001b[1;36m\u001b[0m\n\u001b[1;33m    return (\"Success #1\")\u001b[0m\n\u001b[1;37m    ^\u001b[0m\n\u001b[1;31mIndentationError\u001b[0m\u001b[1;31m:\u001b[0m expected an indented block\n"
     ]
    }
   ],
   "source": [
    "if 6 > 5:\n",
    "return \"Success #1\""
   ]
  },
  {
   "cell_type": "code",
   "execution_count": 221,
   "id": "d6a4b80f",
   "metadata": {},
   "outputs": [
    {
     "name": "stdout",
     "output_type": "stream",
     "text": [
      "Success #1\n",
      "Success #2\n"
     ]
    }
   ],
   "source": [
    "def using_control_once():\n",
    "    if 6 > 5:\n",
    "        return \"Success #1\"\n",
    "\n",
    "def using_control_again():\n",
    "    if 7 > 5:\n",
    "        return \"Success #2\"\n",
    "\n",
    "print (using_control_once())\n",
    "print (using_control_again())"
   ]
  },
  {
   "cell_type": "code",
   "execution_count": 223,
   "id": "9f0b64c0",
   "metadata": {},
   "outputs": [
    {
     "name": "stdout",
     "output_type": "stream",
     "text": [
      "True\n",
      "False\n"
     ]
    }
   ],
   "source": [
    "answer = \"'Tis but a scratch!\"\n",
    "\n",
    "def black_knight():\n",
    "    if answer == \"'Tis but a scratch!\":\n",
    "        return True\n",
    "    else:             \n",
    "        return False       # Make sure this returns False\n",
    "\n",
    "def french_soldier():\n",
    "    if answer == \"Go away, or I shall taunt you a second time!\":\n",
    "        return True\n",
    "    else:             \n",
    "        return False       # Make sure this returns False\n",
    "\n",
    "print (black_knight())\n",
    "print (french_soldier())"
   ]
  },
  {
   "cell_type": "code",
   "execution_count": 231,
   "id": "4517d578",
   "metadata": {},
   "outputs": [
    {
     "name": "stdout",
     "output_type": "stream",
     "text": [
      "-1\n",
      "0\n",
      "1\n"
     ]
    }
   ],
   "source": [
    "def greater_less_equal_5(answer):\n",
    "    if answer > 5:\n",
    "        return 1\n",
    "    elif answer < 5:          \n",
    "        return -1\n",
    "    else:\n",
    "        return 0\n",
    "        \n",
    "print (greater_less_equal_5(4))\n",
    "print (greater_less_equal_5(5))\n",
    "print (greater_less_equal_5(6))\n"
   ]
  },
  {
   "cell_type": "code",
   "execution_count": 238,
   "id": "82c16a0b",
   "metadata": {},
   "outputs": [
    {
     "ename": "SyntaxError",
     "evalue": "invalid syntax (1167286949.py, line 1)",
     "output_type": "error",
     "traceback": [
      "\u001b[1;36m  Input \u001b[1;32mIn [238]\u001b[1;36m\u001b[0m\n\u001b[1;33m    Complete the if and elif statements!\u001b[0m\n\u001b[1;37m             ^\u001b[0m\n\u001b[1;31mSyntaxError\u001b[0m\u001b[1;31m:\u001b[0m invalid syntax\n"
     ]
    }
   ],
   "source": [
    "# Complete the if and elif statements!\n",
    "def grade_converter(grade):\n",
    "    if grade > 90:\n",
    "        return \"A\"\n",
    "    elif grade >= 80 and grade <= 89:\n",
    "        return \"B\"\n",
    "    elif grade >= 70 and grade <= 79:\n",
    "        return \"C\"\n",
    "    elif grade >= 65 and grade <= 69:\n",
    "        return \"D\"\n",
    "    else:\n",
    "        return \"F\"\n",
    "      \n",
    "# This should print an \"A\"      \n",
    "print (grade_converter(92))\n",
    "\n",
    "# This should print a \"C\"\n",
    "print (grade_converter(70))\n",
    "\n",
    "# This should print an \"F\"\n",
    "print (grade_converter(61))"
   ]
  },
  {
   "cell_type": "code",
   "execution_count": 236,
   "id": "0e87bc2d",
   "metadata": {},
   "outputs": [
    {
     "name": "stdout",
     "output_type": "stream",
     "text": [
      "A\n",
      "C\n",
      "F\n"
     ]
    }
   ],
   "source": [
    "def grade_converter(grade):\n",
    "    if grade >= 90:\n",
    "        return \"A\"\n",
    "    elif grade >= 80:\n",
    "        return \"B\"\n",
    "    elif grade >= 70:\n",
    "        return \"C\"\n",
    "    elif grade >= 65:\n",
    "        return \"D\"\n",
    "    else:\n",
    "        return \"F\"\n",
    "      \n",
    "# This should print an \"A\"      \n",
    "print (grade_converter(92))\n",
    "\n",
    "# This should print a \"C\"\n",
    "print (grade_converter(70))\n",
    "\n",
    "# This should print an \"F\"\n",
    "print (grade_converter(61))"
   ]
  },
  {
   "cell_type": "code",
   "execution_count": 244,
   "id": "e9d7cb55",
   "metadata": {},
   "outputs": [
    {
     "name": "stdout",
     "output_type": "stream",
     "text": [
      "A\n",
      "C\n",
      "F\n"
     ]
    }
   ],
   "source": [
    "# Complete the if and elif statements!\n",
    "def grade_converter(grade):\n",
    "    if grade >= 90:\n",
    "        return \"A\"\n",
    "    elif grade >= 80 and grade <= 89:\n",
    "        return \"B\"\n",
    "    elif grade >= 70 and grade <= 79:\n",
    "        return \"C\"\n",
    "    elif grade >= 65 and grade <= 69:\n",
    "        return \"D\"\n",
    "    else:\n",
    "        return \"F\"\n",
    "      \n",
    "# This should print an \"A\"      \n",
    "print (grade_converter(90))\n",
    "\n",
    "# This should print a \"C\"\n",
    "print (grade_converter(70))\n",
    "\n",
    "# This should print an \"F\"\n",
    "print (grade_converter(61))"
   ]
  },
  {
   "cell_type": "code",
   "execution_count": 6,
   "id": "263b6beb",
   "metadata": {},
   "outputs": [
    {
     "name": "stdout",
     "output_type": "stream",
     "text": [
      "Let's go\n"
     ]
    }
   ],
   "source": [
    "def Jack_Sparrow(rum):\n",
    "    if rum == \"dil\":\n",
    "        return \"Let's go\"\n",
    "    elif rum >=80:\n",
    "        return \"Yoho\"\n",
    "    else:\n",
    "        return\"Go back\"\n",
    "print (Jack_Sparrow(\"dil\"))\n",
    "    "
   ]
  },
  {
   "cell_type": "code",
   "execution_count": 15,
   "id": "bfaba204",
   "metadata": {},
   "outputs": [
    {
     "name": "stdout",
     "output_type": "stream",
     "text": [
      "empty\n"
     ]
    }
   ],
   "source": [
    "Jack_Sparrow = \"\"\n",
    "if len(Jack_Sparrow) > 0:\n",
    "    print ('Yoho')\n",
    "else: \n",
    "    print (\"empty\")"
   ]
  },
  {
   "cell_type": "code",
   "execution_count": 22,
   "id": "33e641dc",
   "metadata": {},
   "outputs": [
    {
     "name": "stdout",
     "output_type": "stream",
     "text": [
      "yoho\n"
     ]
    }
   ],
   "source": [
    "Jack = \"Rum\"\n",
    "if len(Jack) > 2 and len (Jack) < 10 and Jack.isalpha():\n",
    "    print (\"yoho\")\n",
    "else:\n",
    "    print(\"G\")"
   ]
  },
  {
   "cell_type": "code",
   "execution_count": 29,
   "id": "bb6bb49e",
   "metadata": {},
   "outputs": [
    {
     "name": "stdout",
     "output_type": "stream",
     "text": [
      "Where is Davy Jones:Guarding the Pearl\n",
      "I want to steal the Pearl\n"
     ]
    }
   ],
   "source": [
    "Jack = input('Where is Davy Jones:')\n",
    "print(\"I want to steal the Pearl\")"
   ]
  },
  {
   "cell_type": "code",
   "execution_count": 32,
   "id": "06a4f680",
   "metadata": {},
   "outputs": [
    {
     "name": "stdout",
     "output_type": "stream",
     "text": [
      "Enter a word:Hello\n",
      "Done\n",
      "hello\n",
      "h\n",
      "e\n"
     ]
    }
   ],
   "source": [
    "pyg = 'ay'\n",
    "\n",
    "original = input('Enter a word:')\n",
    "word = original.lower()\n",
    "first = word[0]\n",
    "second = word[1]\n",
    "\n",
    "if len(original) > 0 and original.isalpha():\n",
    "    print (\"Done\")\n",
    "else:\n",
    "    print ('empty')\n",
    "\n",
    "\n",
    "print (word)\n",
    "print(first)\n",
    "print(second)"
   ]
  },
  {
   "cell_type": "code",
   "execution_count": null,
   "id": "37a97130",
   "metadata": {},
   "outputs": [],
   "source": [
    "Jack = input('Where is Davy Jones:')\n",
    "print(\"I want to steal the Pearl\")\n",
    "if len(Jack) > 1 and Jack.isalpha():\n",
    "    print(\"Yoho\")\n",
    "elif (len(Jack) < 5 and Jack.isfloat()):\n",
    "    print(\"turbulence\")\n",
    "else:\n",
    "    print(\"done with it\")\n",
    "    \n",
    "I = Jack.lower()\n",
    "U = Jack.upper()\n",
    "Y = len(Jack)\n",
    "u = Jack[1]\n",
    "\n",
    "print (I, U, Y, u)\n",
    "    "
   ]
  },
  {
   "cell_type": "code",
   "execution_count": null,
   "id": "ba124fd0",
   "metadata": {},
   "outputs": [],
   "source": [
    "pyg = 'ay'\n",
    "\n",
    "original = input('Enter a word:')\n",
    "\n",
    "if len(original) > 0 and original.isalpha():\n",
    "    print ('original')\n",
    "else:\n",
    "    print ('empty')\n",
    "\n",
    "word = (original.lower())\n",
    "first = word[0]\n",
    "new_word = word + first + pyg\n",
    "print (word)\n",
    "print (first)\n",
    "print (new_word)"
   ]
  },
  {
   "cell_type": "code",
   "execution_count": null,
   "id": "854eb940",
   "metadata": {},
   "outputs": [],
   "source": [
    "pyg = 'ay'\n",
    "Jack = input ('Where is Davy Jones?:')\n",
    "word = Jack.lower()\n",
    "new_word = Jack + word+ pyg\n",
    "new_word = (Jack[1:len(new_word)])\n"
   ]
  },
  {
   "cell_type": "code",
   "execution_count": null,
   "id": "b6ce8cf5",
   "metadata": {},
   "outputs": [],
   "source": [
    "print('dust')"
   ]
  },
  {
   "cell_type": "code",
   "execution_count": null,
   "id": "8dd26699",
   "metadata": {},
   "outputs": [],
   "source": [
    "\n"
   ]
  },
  {
   "cell_type": "code",
   "execution_count": 12,
   "id": "ad578eb6",
   "metadata": {},
   "outputs": [
    {
     "name": "stdout",
     "output_type": "stream",
     "text": [
      "y\n"
     ]
    }
   ],
   "source": [
    "def Jack(Pearl):\n",
    "    if (Pearl > 80):\n",
    "        return(\"y\")\n",
    "    elif(Pearl == 50):\n",
    "        return(\"K\")\n",
    "    else:\n",
    "        return(\"o\")\n",
    "    \n",
    "print (Jack(81))\n",
    "    "
   ]
  },
  {
   "cell_type": "code",
   "execution_count": 3,
   "id": "2ead4f34",
   "metadata": {},
   "outputs": [
    {
     "name": "stdout",
     "output_type": "stream",
     "text": [
      "Who is the best pirate?me\n",
      "Try again\n",
      "Who is the best pirate?k\n",
      "Try again\n",
      "Who is the best pirate?kfjf\n",
      "Try again\n",
      "Who is the best pirate?Barbosa\n",
      "No\n"
     ]
    }
   ],
   "source": [
    "B = True\n",
    "while B == True:\n",
    "    Aye = input(\"Who is the best pirate?\")\n",
    "    if Aye == \"Jack\":\n",
    "        print(\"Yoho\")\n",
    "        B = False\n",
    "    elif Aye == \"Barbosa\":\n",
    "        print(\"No\")\n",
    "        B=False\n",
    "    else: \n",
    "        print (\"Try again\")\n",
    "    \n",
    "    \n",
    "    \n"
   ]
  },
  {
   "cell_type": "code",
   "execution_count": 16,
   "id": "3697cd5f",
   "metadata": {},
   "outputs": [
    {
     "name": "stdout",
     "output_type": "stream",
     "text": [
      "Barbossa\n"
     ]
    }
   ],
   "source": [
    "def myship(Pearl = ''):\n",
    "\n",
    "    if Pearl>100:\n",
    "        return\"yeay\"\n",
    "    elif Pearl <90:\n",
    "        return\"Singapore\"\n",
    "    else:\n",
    "        return\"Barbossa\"\n",
    "\n",
    "g = myship(Pearl = 95)\n",
    "print(g)"
   ]
  },
  {
   "cell_type": "code",
   "execution_count": 12,
   "id": "038eab03",
   "metadata": {},
   "outputs": [
    {
     "name": "stdout",
     "output_type": "stream",
     "text": [
      "i\n"
     ]
    }
   ],
   "source": [
    "print(\"i\")"
   ]
  },
  {
   "cell_type": "code",
   "execution_count": 22,
   "id": "c2aa0873",
   "metadata": {},
   "outputs": [
    {
     "name": "stdout",
     "output_type": "stream",
     "text": [
      "Eggs!\n"
     ]
    }
   ],
   "source": [
    "def spam():\n",
    "  print (\"Eggs!\")\n",
    "spam()"
   ]
  },
  {
   "cell_type": "code",
   "execution_count": 34,
   "id": "8b577fca",
   "metadata": {},
   "outputs": [
    {
     "name": "stdout",
     "output_type": "stream",
     "text": [
      "10.200000 squared is 104.040000.\n"
     ]
    },
    {
     "data": {
      "text/plain": [
       "104.03999999999999"
      ]
     },
     "execution_count": 34,
     "metadata": {},
     "output_type": "execute_result"
    }
   ],
   "source": [
    "def square(n):\n",
    "  \"\"\"Returns the square of a number.\"\"\"\n",
    "  squared = n ** 2\n",
    "  print( \"%f squared is %f.\" % (n, squared))\n",
    "  return squared\n",
    "  \n",
    "square(10.2)"
   ]
  },
  {
   "cell_type": "code",
   "execution_count": 36,
   "id": "9835c804",
   "metadata": {},
   "outputs": [
    {
     "name": "stdout",
     "output_type": "stream",
     "text": [
      "40 to the power of 4 is 2560000.\n"
     ]
    }
   ],
   "source": [
    "def power(base, exponent):  # Add your parameters here!\n",
    "  result = base ** exponent\n",
    "  print (\"%d to the power of %d is %d.\" % (base, exponent, result))\n",
    "\n",
    "power(40, 4)"
   ]
  },
  {
   "cell_type": "code",
   "execution_count": 42,
   "id": "3fc74fac",
   "metadata": {},
   "outputs": [
    {
     "data": {
      "text/plain": [
       "11"
      ]
     },
     "execution_count": 42,
     "metadata": {},
     "output_type": "execute_result"
    }
   ],
   "source": [
    "def one_good_turn(n):\n",
    "  return n + 1\n",
    "    \n",
    "def deserves_another(n):\n",
    "  return n + 2\n",
    "\n",
    "one_good_turn(10)"
   ]
  },
  {
   "cell_type": "code",
   "execution_count": 45,
   "id": "17eeeab2",
   "metadata": {},
   "outputs": [
    {
     "data": {
      "text/plain": [
       "5"
      ]
     },
     "execution_count": 45,
     "metadata": {},
     "output_type": "execute_result"
    }
   ],
   "source": [
    "def one_good_turn(n):\n",
    "  return n + 1\n",
    "    \n",
    "def deserves_another(n):\n",
    "  return one_good_turn(n) + 2\n",
    "\n",
    "deserves_another(2)"
   ]
  },
  {
   "cell_type": "code",
   "execution_count": 76,
   "id": "26b9c017",
   "metadata": {},
   "outputs": [
    {
     "ename": "SyntaxError",
     "evalue": "invalid syntax (2400147396.py, line 2)",
     "output_type": "error",
     "traceback": [
      "\u001b[1;36m  Input \u001b[1;32mIn [76]\u001b[1;36m\u001b[0m\n\u001b[1;33m    if [i:i+len(A[3])] == ATC:\u001b[0m\n\u001b[1;37m         ^\u001b[0m\n\u001b[1;31mSyntaxError\u001b[0m\u001b[1;31m:\u001b[0m invalid syntax\n"
     ]
    }
   ],
   "source": [
    "A = \"ATCTTATCTTATCGGATCTCATCAAATCGGATCCCATC\"\n",
    "if [i:i+len(A[3])] == ATC:\n",
    "    count = count+1"
   ]
  },
  {
   "cell_type": "code",
   "execution_count": 81,
   "id": "39c2ee81",
   "metadata": {},
   "outputs": [
    {
     "ename": "TypeError",
     "evalue": "can only concatenate str (not \"int\") to str",
     "output_type": "error",
     "traceback": [
      "\u001b[1;31m---------------------------------------------------------------------------\u001b[0m",
      "\u001b[1;31mTypeError\u001b[0m                                 Traceback (most recent call last)",
      "Input \u001b[1;32mIn [81]\u001b[0m, in \u001b[0;36m<cell line: 2>\u001b[1;34m()\u001b[0m\n\u001b[0;32m      1\u001b[0m Text \u001b[38;5;241m=\u001b[39m \u001b[38;5;124m\"\u001b[39m\u001b[38;5;124mATCTTATCTTATCGGATCTCATCAAATCGGATCCCATC\u001b[39m\u001b[38;5;124m\"\u001b[39m\n\u001b[1;32m----> 2\u001b[0m \u001b[38;5;28;01mif\u001b[39;00m Text[i:\u001b[43mi\u001b[49m\u001b[38;5;241;43m+\u001b[39;49m\u001b[38;5;28;43mlen\u001b[39;49m\u001b[43m(\u001b[49m\u001b[43mText\u001b[49m\u001b[43m)\u001b[49m] \u001b[38;5;241m==\u001b[39m ATC:\n\u001b[0;32m      3\u001b[0m     count \u001b[38;5;241m=\u001b[39m count\u001b[38;5;241m+\u001b[39m\u001b[38;5;241m1\u001b[39m\n",
      "\u001b[1;31mTypeError\u001b[0m: can only concatenate str (not \"int\") to str"
     ]
    }
   ],
   "source": [
    "Text = \"ATCTTATCTTATCGGATCTCATCAAATCGGATCCCATC\"\n",
    "if Text[i:i+len(Text)] == ATC:\n",
    "    count = count+1\n",
    "    "
   ]
  },
  {
   "cell_type": "code",
   "execution_count": 55,
   "id": "0286f2ca",
   "metadata": {},
   "outputs": [
    {
     "name": "stdout",
     "output_type": "stream",
     "text": [
      "apple\n",
      "3\n",
      "10\n",
      "2XYTH\n",
      "cherry\n"
     ]
    }
   ],
   "source": [
    "fruits = [\"apple\", \"3\", \"10\", \"2XYTH\", \"cherry\"]\n",
    "for g in fruits:\n",
    "  print(g)"
   ]
  },
  {
   "cell_type": "code",
   "execution_count": 63,
   "id": "a3929823",
   "metadata": {},
   "outputs": [
    {
     "name": "stdout",
     "output_type": "stream",
     "text": [
      "a\n",
      "t\n",
      "c\n"
     ]
    }
   ],
   "source": [
    "for x in \"atc\":\n",
    "    print(x)"
   ]
  },
  {
   "cell_type": "code",
   "execution_count": 75,
   "id": "3697d6c3",
   "metadata": {},
   "outputs": [
    {
     "name": "stdout",
     "output_type": "stream",
     "text": [
      "apple\n",
      "apple\n",
      "3\n",
      "3\n",
      "10\n"
     ]
    }
   ],
   "source": [
    "fruits = [\"apple\", \"3\", \"10\", \"2XYTH\", \"cherry\"]\n",
    "for g in fruits:\n",
    "    print(g)\n",
    "    if g == \"10\":\n",
    "        break\n",
    "    print(g)"
   ]
  },
  {
   "cell_type": "code",
   "execution_count": 90,
   "id": "1b053c69",
   "metadata": {},
   "outputs": [
    {
     "name": "stdout",
     "output_type": "stream",
     "text": [
      "0\n",
      "5\n",
      "10\n",
      "15\n",
      "20\n",
      "25\n",
      "30\n",
      "35\n",
      "40\n",
      "45\n"
     ]
    }
   ],
   "source": [
    "for number in range(10\n",
    "                   ):\n",
    "    print(5*number)"
   ]
  },
  {
   "cell_type": "code",
   "execution_count": 99,
   "id": "f6e7ca3a",
   "metadata": {},
   "outputs": [
    {
     "data": {
      "text/plain": [
       "1000"
      ]
     },
     "execution_count": 99,
     "metadata": {},
     "output_type": "execute_result"
    }
   ],
   "source": [
    "def cube(number):\n",
    "  return number * number * number\n",
    "cube(10)\n"
   ]
  },
  {
   "cell_type": "code",
   "execution_count": 109,
   "id": "fc7be724",
   "metadata": {},
   "outputs": [
    {
     "name": "stdout",
     "output_type": "stream",
     "text": [
      "y\n"
     ]
    }
   ],
   "source": [
    "def cube(number):\n",
    "  return(number*number*number)\n",
    "\n",
    "def by_three(number):\n",
    "    if( number % 3 == 0):\n",
    "        return (number +2)\n",
    "    else: \n",
    "        print(\"y\")\n",
    "by_three(31)"
   ]
  },
  {
   "cell_type": "code",
   "execution_count": 117,
   "id": "614e1a65",
   "metadata": {},
   "outputs": [
    {
     "ename": "SyntaxError",
     "evalue": "'return' outside function (578984521.py, line 7)",
     "output_type": "error",
     "traceback": [
      "\u001b[1;36m  Input \u001b[1;32mIn [117]\u001b[1;36m\u001b[0m\n\u001b[1;33m    return False\u001b[0m\n\u001b[1;37m    ^\u001b[0m\n\u001b[1;31mSyntaxError\u001b[0m\u001b[1;31m:\u001b[0m 'return' outside function\n"
     ]
    }
   ],
   "source": [
    "def cube(number):\n",
    "  return(number*number*number)\n",
    "\n",
    "def by_three(number):\n",
    "  if(number % 3 == 0):\n",
    "    return cube(number)\n",
    "False\n",
    "by_three(31)"
   ]
  },
  {
   "cell_type": "code",
   "execution_count": 120,
   "id": "5e3abdb3",
   "metadata": {},
   "outputs": [
    {
     "name": "stdout",
     "output_type": "stream",
     "text": [
      "5.0\n"
     ]
    }
   ],
   "source": [
    "import math\n",
    "print (math.sqrt(25))"
   ]
  },
  {
   "cell_type": "code",
   "execution_count": 147,
   "id": "07448b81",
   "metadata": {},
   "outputs": [
    {
     "name": "stdout",
     "output_type": "stream",
     "text": [
      "('mouse', [8, 4, 6], ['a'])\n"
     ]
    }
   ],
   "source": [
    "my_list = \"mouse\", [8, 4, 6], ['a']\n",
    "print (my_list)"
   ]
  },
  {
   "cell_type": "code",
   "execution_count": 143,
   "id": "535ab359",
   "metadata": {},
   "outputs": [
    {
     "name": "stdout",
     "output_type": "stream",
     "text": [
      "1\n",
      "2\n",
      "3\n",
      "4\n",
      "5\n",
      "6\n",
      "7\n",
      "8\n",
      "9\n"
     ]
    }
   ],
   "source": [
    "Text = \"ATCTTATCTTATCGGATCTCATCAAATCGGATCCCATCATC\"\n",
    "Pattern = \"ATC\"\n",
    "count = 0\n",
    "\n",
    "for i in range(len(Text)-len(Pattern)+1):\n",
    "        if Text[i:i+len(Pattern)] == Pattern:\n",
    "            count = count+1 \n",
    "            print (count)\n",
    "        "
   ]
  },
  {
   "cell_type": "code",
   "execution_count": 227,
   "id": "55ec0abf",
   "metadata": {},
   "outputs": [
    {
     "name": "stdout",
     "output_type": "stream",
     "text": [
      "7\n"
     ]
    }
   ],
   "source": [
    "def Pearl(Jacks_DNA, pattern):\n",
    "    count = 0\n",
    "    for j in range (len(Jacks_DNA)-len(pattern)+1):\n",
    "        if Jacks_DNA[j:j+len(pattern)] == pattern:\n",
    "            count = count+1\n",
    "    return count\n",
    "Jacks_DNA =\"rumthrumgjgjrumrumgjgjgtumkjgjgjrumhghghrumdhdhrum\"\n",
    "pattern = \"rum\"\n",
    "print(Pearl(Jacks_DNA, pattern))\n",
    "                   "
   ]
  },
  {
   "cell_type": "code",
   "execution_count": 257,
   "id": "e120a109",
   "metadata": {},
   "outputs": [],
   "source": [
    "def shut_down (s):\n",
    "    if s == \"yes\":\n",
    "        return \"Shutting down\"\n",
    "    elif s == \"no\":\n",
    "        return \"Shutdown aborted\"\n",
    "    else:\n",
    "        return \"Sorry\"  \n"
   ]
  },
  {
   "cell_type": "code",
   "execution_count": 259,
   "id": "f579e799",
   "metadata": {},
   "outputs": [],
   "source": [
    "from math import sqrt"
   ]
  },
  {
   "cell_type": "code",
   "execution_count": 233,
   "id": "c0da8222",
   "metadata": {},
   "outputs": [
    {
     "name": "stdout",
     "output_type": "stream",
     "text": [
      "8\n"
     ]
    }
   ],
   "source": [
    "def PatternCount(Text, Pattern):\n",
    "    # fill in your function here\n",
    "    count = 0\n",
    "    for i in range(len(Text)-len(Pattern)+1):\n",
    "        if Text[i:i+len(Pattern)] == Pattern:\n",
    "            count = count+1\n",
    "    return count\n",
    "Text =\"ATCAATGATCAACGTAAGCTTCTAAGCATGATCAAGGTGCTCACACAGTTTATCCACAACCTGAGTGGATGACATCAAGATAGGTCGTTGTATCTCCTTCCTCTCGTACTCTCATGACCACGGAAAGATGATCAAGAGAGGATGATTTCTTGGCCATATCGCAATGAATACTTGTGACTTGTGCTTCCAATTGACATCTTCAGCGCCATATTGCGCTGGCCAAGGTGACGGAGCGGGATTACGAAAGCATGATCATGGCTGTTGTTCTGTTTATCTTGTTTTGACTGAGACTTGTTAGGATAGACGGTTTTTCATCACTGACTAGCCAAAGCCTTACTCTGCCTGACATCGACCGTAAATTGATAATGAATTTACATGCTTCCGCGACGATTTACCTCTTGATCATCGATCCGATTGAAGATCTTCAATTGTTAATTCTCTTGCCTCGACTCATAGCCATGATGAGCTCTTGATCATGTTTCCTTAACCCTCTATTTTTTACGGAAGAATGATCAAGCTGCTGCTCTTGATCATCGTTTC\"\n",
    "k = \"TGATC\"\n",
    "print(PatternCount(Text, k))"
   ]
  },
  {
   "cell_type": "code",
   "execution_count": null,
   "id": "97ea89ef",
   "metadata": {},
   "outputs": [],
   "source": []
  },
  {
   "cell_type": "code",
   "execution_count": 237,
   "id": "38a73400",
   "metadata": {},
   "outputs": [
    {
     "ename": "TypeError",
     "evalue": "unsupported operand type(s) for -: 'int' and 'str'",
     "output_type": "error",
     "traceback": [
      "\u001b[1;31m---------------------------------------------------------------------------\u001b[0m",
      "\u001b[1;31mTypeError\u001b[0m                                 Traceback (most recent call last)",
      "Input \u001b[1;32mIn [237]\u001b[0m, in \u001b[0;36m<cell line: 10>\u001b[1;34m()\u001b[0m\n\u001b[0;32m      8\u001b[0m Text \u001b[38;5;241m=\u001b[39m \u001b[38;5;124m\"\u001b[39m\u001b[38;5;124mATCAATGATCAACGTAAGCTTCTAAGCATGATCAAGGTGCTCACACAGTTTATCCACAACCTGAGTGGATGACATCAAGATAGGTCGTTGTATCTCCTTCCTCTCGTACTCTCATGACCACGGAAAGATGATCAAGAGAGGATGATTTCTTGGCCATATCGCAATGAATACTTGTGACTTGTGCTTCCAATTGACATCTTCAGCGCCATATTGCGCTGGCCAAGGTGACGGAGCGGGATTACGAAAGCATGATCATGGCTGTTGTTCTGTTTATCTTGTTTTGACTGAGACTTGTTAGGATAGACGGTTTTTCATCACTGACTAGCCAAAGCCTTACTCTGCCTGACATCGACCGTAAATTGATAATGAATTTACATGCTTCCGCGACGATTTACCTCTTGATCATCGATCCGATTGAAGATCTTCAATTGTTAATTCTCTTGCCTCGACTCATAGCCATGATGAGCTCTTGATCATGTTTCCTTAACCCTCTATTTTTTACGGAAGAATGATCAAGCTGCTGCTCTTGATCATCGTTTC\u001b[39m\u001b[38;5;124m\"\u001b[39m\n\u001b[0;32m      9\u001b[0m k \u001b[38;5;241m=\u001b[39m \u001b[38;5;124m\"\u001b[39m\u001b[38;5;124m3\u001b[39m\u001b[38;5;124m\"\u001b[39m\n\u001b[1;32m---> 10\u001b[0m \u001b[38;5;28mprint\u001b[39m(\u001b[43mFrequencyMap\u001b[49m\u001b[43m(\u001b[49m\u001b[43mText\u001b[49m\u001b[43m,\u001b[49m\u001b[43m \u001b[49m\u001b[43mk\u001b[49m\u001b[43m)\u001b[49m)\n",
      "Input \u001b[1;32mIn [237]\u001b[0m, in \u001b[0;36mFrequencyMap\u001b[1;34m(Text, k)\u001b[0m\n\u001b[0;32m      2\u001b[0m freq \u001b[38;5;241m=\u001b[39m {}\n\u001b[0;32m      3\u001b[0m n \u001b[38;5;241m=\u001b[39m \u001b[38;5;28mlen\u001b[39m(Text)\n\u001b[1;32m----> 4\u001b[0m \u001b[38;5;28;01mfor\u001b[39;00m i \u001b[38;5;129;01min\u001b[39;00m \u001b[38;5;28mrange\u001b[39m(\u001b[43mn\u001b[49m\u001b[38;5;241;43m-\u001b[39;49m\u001b[43mk\u001b[49m\u001b[38;5;241m+\u001b[39m\u001b[38;5;241m1\u001b[39m):\n\u001b[0;32m      5\u001b[0m     Pattern \u001b[38;5;241m=\u001b[39m Text[i:i\u001b[38;5;241m+\u001b[39mk]\n\u001b[0;32m      6\u001b[0m     freq[Pattern] \u001b[38;5;241m=\u001b[39m \u001b[38;5;241m0\u001b[39m\n",
      "\u001b[1;31mTypeError\u001b[0m: unsupported operand type(s) for -: 'int' and 'str'"
     ]
    }
   ],
   "source": [
    "def FrequencyMap(Text, k):\n",
    "    freq = {}\n",
    "    n = len(Text)\n",
    "    for i in range(n-k+1):\n",
    "        Pattern = Text[i:i+k]\n",
    "        freq[Pattern] = 0\n",
    "    return freq\n",
    "Text = \"ATCAATGATCAACGTAAGCTTCTAAGCATGATCAAGGTGCTCACACAGTTTATCCACAACCTGAGTGGATGACATCAAGATAGGTCGTTGTATCTCCTTCCTCTCGTACTCTCATGACCACGGAAAGATGATCAAGAGAGGATGATTTCTTGGCCATATCGCAATGAATACTTGTGACTTGTGCTTCCAATTGACATCTTCAGCGCCATATTGCGCTGGCCAAGGTGACGGAGCGGGATTACGAAAGCATGATCATGGCTGTTGTTCTGTTTATCTTGTTTTGACTGAGACTTGTTAGGATAGACGGTTTTTCATCACTGACTAGCCAAAGCCTTACTCTGCCTGACATCGACCGTAAATTGATAATGAATTTACATGCTTCCGCGACGATTTACCTCTTGATCATCGATCCGATTGAAGATCTTCAATTGTTAATTCTCTTGCCTCGACTCATAGCCATGATGAGCTCTTGATCATGTTTCCTTAACCCTCTATTTTTTACGGAAGAATGATCAAGCTGCTGCTCTTGATCATCGTTTC\"\n",
    "k = \"3\"\n",
    "print(FrequencyMap(Text, k))"
   ]
  },
  {
   "cell_type": "code",
   "execution_count": 293,
   "id": "22f447d0",
   "metadata": {},
   "outputs": [
    {
     "name": "stdout",
     "output_type": "stream",
     "text": [
      "Type a number: abc\n"
     ]
    },
    {
     "ename": "ValueError",
     "evalue": "invalid literal for int() with base 10: 'abc'",
     "output_type": "error",
     "traceback": [
      "\u001b[1;31m---------------------------------------------------------------------------\u001b[0m",
      "\u001b[1;31mValueError\u001b[0m                                Traceback (most recent call last)",
      "Input \u001b[1;32mIn [293]\u001b[0m, in \u001b[0;36m<cell line: 3>\u001b[1;34m()\u001b[0m\n\u001b[0;32m      1\u001b[0m \u001b[38;5;66;03m#def number(by_3, by_5, by_both):\u001b[39;00m\n\u001b[0;32m      2\u001b[0m n \u001b[38;5;241m=\u001b[39m \u001b[38;5;28minput\u001b[39m(\u001b[38;5;124m\"\u001b[39m\u001b[38;5;124mType a number: \u001b[39m\u001b[38;5;124m\"\u001b[39m)\n\u001b[1;32m----> 3\u001b[0m N \u001b[38;5;241m=\u001b[39m \u001b[38;5;28;43mint\u001b[39;49m\u001b[43m(\u001b[49m\u001b[43mn\u001b[49m\u001b[43m)\u001b[49m\n\u001b[0;32m      4\u001b[0m \u001b[38;5;28;01mif\u001b[39;00m (N \u001b[38;5;241m%\u001b[39m \u001b[38;5;241m3\u001b[39m \u001b[38;5;241m==\u001b[39m \u001b[38;5;241m0\u001b[39m \u001b[38;5;129;01mand\u001b[39;00m N \u001b[38;5;241m%\u001b[39m \u001b[38;5;241m5\u001b[39m \u001b[38;5;241m==\u001b[39m \u001b[38;5;241m0\u001b[39m):\n\u001b[0;32m      5\u001b[0m     \u001b[38;5;28mprint\u001b[39m (\u001b[38;5;124m\"\u001b[39m\u001b[38;5;124mFizBuzz\u001b[39m\u001b[38;5;124m\"\u001b[39m)\n",
      "\u001b[1;31mValueError\u001b[0m: invalid literal for int() with base 10: 'abc'"
     ]
    }
   ],
   "source": [
    "#def number(by_3, by_5, by_both):\n",
    "n = input(\"Type a number: \")\n",
    "N = int(n)\n",
    "if (N % 3 == 0 and N % 5 == 0):\n",
    "    print (\"FizBuzz\")\n",
    "elif (N % 3 == 0):\n",
    "    print (\"Fiz\")\n",
    "elif (N % 5 == 0):\n",
    "    print (\"Buz\")\n",
    "else:\n",
    "    print(N)\n",
    "    \n",
    "    \n",
    "   "
   ]
  },
  {
   "cell_type": "code",
   "execution_count": null,
   "id": "22ebd1ef",
   "metadata": {},
   "outputs": [],
   "source": [
    "def number(div):\n",
    "if (div % 3 == 0):\n",
    "    return (\"Jack\")\n",
    "elif (div % 5 == 0):\n",
    "    return (\"Sparrow\")\n",
    "else:\n",
    "    return (\"Jack Sparrow\")\n",
    "\n",
    "print (number(10))\n",
    "    "
   ]
  },
  {
   "cell_type": "code",
   "execution_count": 295,
   "id": "d6cac93f",
   "metadata": {},
   "outputs": [
    {
     "name": "stdout",
     "output_type": "stream",
     "text": [
      "fizzbuzz\n"
     ]
    }
   ],
   "source": [
    "for i in range(1):\n",
    "    if i % 3 == 0 and i % 5 == 0:\n",
    "        print('fizzbuzz')\n",
    "    elif i % 3 == 0 and i % 5 != 0:\n",
    "        print('fizz')\n",
    "    elif i % 3 != 0 and i % 5 == 0:\n",
    "        print('buzz')\n",
    "    else:\n",
    "        print(i)"
   ]
  },
  {
   "cell_type": "code",
   "execution_count": 314,
   "id": "362e99c2",
   "metadata": {},
   "outputs": [
    {
     "name": "stdout",
     "output_type": "stream",
     "text": [
      "10\n"
     ]
    }
   ],
   "source": [
    "def distance_from_zero(y):\n",
    "    if type(y) == int or type(y) == float:\n",
    "        return (abs(y))\n",
    "    else:\n",
    "        return(\"Nope\")\n",
    "print (distance_from_zero(-10))"
   ]
  },
  {
   "cell_type": "code",
   "execution_count": 320,
   "id": "e50e73ff",
   "metadata": {},
   "outputs": [],
   "source": [
    "def distance_from_zero(y):\n",
    "    if y == type(int) or y == type (float):\n",
    "        return (abs(y))\n",
    "    else:\n",
    "        return \"Nope\""
   ]
  },
  {
   "cell_type": "code",
   "execution_count": 334,
   "id": "170d4ca4",
   "metadata": {},
   "outputs": [
    {
     "name": "stdout",
     "output_type": "stream",
     "text": [
      "()\n"
     ]
    }
   ],
   "source": [
    "def answer():\n",
    "    return ()\n",
    "print (answer())\n"
   ]
  },
  {
   "cell_type": "code",
   "execution_count": 330,
   "id": "c132fb64",
   "metadata": {},
   "outputs": [
    {
     "name": "stdout",
     "output_type": "stream",
     "text": [
      "41\n"
     ]
    }
   ],
   "source": [
    "print(41)"
   ]
  },
  {
   "cell_type": "code",
   "execution_count": 338,
   "id": "7ab7feec",
   "metadata": {},
   "outputs": [
    {
     "name": "stdout",
     "output_type": "stream",
     "text": [
      "1400\n"
     ]
    }
   ],
   "source": [
    "def hotel_cost(nights):\n",
    "    return (nights * 140)\n",
    "print (hotel_cost(10))"
   ]
  },
  {
   "cell_type": "code",
   "execution_count": 364,
   "id": "36d4782c",
   "metadata": {},
   "outputs": [
    {
     "name": "stdout",
     "output_type": "stream",
     "text": [
      "475\n"
     ]
    }
   ],
   "source": [
    "def plane_ride_cost(city):\n",
    "    if(city == \"Charlotte\"):\n",
    "        return(183)\n",
    "    elif(city == \"Tampa\"):\n",
    "        return(220)\n",
    "    elif(city == \"Pittsburgh\"):\n",
    "        return(22)\n",
    "    elif(city == \"Los Angeles\"):\n",
    "        return(475)\n",
    "print (plane_ride_cost('Los Angeles'))\n",
    "    "
   ]
  },
  {
   "cell_type": "code",
   "execution_count": 374,
   "id": "45e535bf",
   "metadata": {},
   "outputs": [
    {
     "name": "stdout",
     "output_type": "stream",
     "text": [
      "100.0\n"
     ]
    }
   ],
   "source": [
    "def rental_car_cost(days):\n",
    "    if (days >= 7):\n",
    "        return (days*40) - 50\n",
    "    elif (days >= 3):\n",
    "        return (days*40) - 20\n",
    "    else:\n",
    "        return days*40\n",
    "print (rental_car_cost(2.5))"
   ]
  },
  {
   "cell_type": "code",
   "execution_count": 406,
   "id": "28c2dde6",
   "metadata": {},
   "outputs": [
    {
     "name": "stdout",
     "output_type": "stream",
     "text": [
      "['sunglasses', 'hat'] ['passport', 'laptop'] ['laptop', 'suit', 'shoes']\n",
      "5\n"
     ]
    }
   ],
   "source": [
    "suitcase = [\"sunglasses\", \"hat\", \"passport\", \"laptop\", \"suit\", \"shoes\"]\n",
    "\n",
    "# The first and second items (index zero and one)\n",
    "first = suitcase[0:2]\n",
    "\n",
    "# Third and fourth items (index two and three)\n",
    "middle = suitcase[2:4]\n",
    "\n",
    "# The last two items (index four and five)\n",
    "last = suitcase[3:6]\n",
    "\n",
    "print (first, middle, last)\n",
    "\n",
    "animals = [\"ant\", \"bat\", \"cat\"]\n",
    "print (suitcase.index(\"shoes\"))"
   ]
  },
  {
   "cell_type": "code",
   "execution_count": 402,
   "id": "3650b2b6",
   "metadata": {},
   "outputs": [
    {
     "name": "stdout",
     "output_type": "stream",
     "text": [
      "cat dog frog\n"
     ]
    }
   ],
   "source": [
    "animals = \"catdogfrog\"\n",
    "\n",
    "# The first three characters of animals\n",
    "cat = animals[:3]\n",
    "\n",
    "# The fourth through sixth characters\n",
    "dog = animals[3:6]\n",
    "\n",
    "# From the seventh character to the end\n",
    "frog = animals[6:]\n",
    "\n",
    "print (cat, dog, frog)\n"
   ]
  },
  {
   "cell_type": "code",
   "execution_count": 405,
   "id": "3c4d54b4",
   "metadata": {},
   "outputs": [
    {
     "name": "stdout",
     "output_type": "stream",
     "text": [
      "0\n"
     ]
    }
   ],
   "source": [
    "animals = [\"ant\", \"bat\", \"cat\"]\n",
    "print (animals.index(\"ant\"))"
   ]
  },
  {
   "cell_type": "code",
   "execution_count": 407,
   "id": "a4cc2af4",
   "metadata": {},
   "outputs": [],
   "source": [
    "Jack = [\"rum\", \"pearl\", \"compass\"]"
   ]
  },
  {
   "cell_type": "code",
   "execution_count": 408,
   "id": "cc2c385a",
   "metadata": {},
   "outputs": [],
   "source": [
    "Jack.insert(2, \"Barbosa\")"
   ]
  },
  {
   "cell_type": "code",
   "execution_count": 409,
   "id": "e264df28",
   "metadata": {},
   "outputs": [
    {
     "name": "stdout",
     "output_type": "stream",
     "text": [
      "['rum', 'pearl', 'Barbosa', 'compass']\n"
     ]
    }
   ],
   "source": [
    "print (Jack)"
   ]
  },
  {
   "cell_type": "code",
   "execution_count": 411,
   "id": "4af03038",
   "metadata": {},
   "outputs": [],
   "source": [
    "Jack.insert(0, \"kraken\")"
   ]
  },
  {
   "cell_type": "code",
   "execution_count": 412,
   "id": "246314f3",
   "metadata": {},
   "outputs": [
    {
     "name": "stdout",
     "output_type": "stream",
     "text": [
      "['kraken', 'rum', 'pearl', 'Barbosa', 'compass']\n"
     ]
    }
   ],
   "source": [
    "print(Jack\n",
    "    )"
   ]
  },
  {
   "cell_type": "code",
   "execution_count": 416,
   "id": "491662c3",
   "metadata": {},
   "outputs": [
    {
     "name": "stdout",
     "output_type": "stream",
     "text": [
      "2\n",
      "['aardvark', 'badger', 'cobra', 'duck', 'emu', 'fennec fox']\n"
     ]
    }
   ],
   "source": [
    "animals = [\"aardvark\", \"badger\", \"duck\", \"emu\", \"fennec fox\"]\n",
    "duck_index = animals.index(\"duck\")\n",
    "print(duck_index)\n",
    "\n",
    "# Your code here!\n",
    "animals.insert(duck_index, \"cobra\")\n",
    "\n",
    "print (animals)\n",
    " # Observe what prints after the insert operation"
   ]
  },
  {
   "cell_type": "code",
   "execution_count": 418,
   "id": "65888215",
   "metadata": {},
   "outputs": [
    {
     "name": "stdout",
     "output_type": "stream",
     "text": [
      "30\n",
      "45\n",
      "60\n"
     ]
    }
   ],
   "source": [
    "my_list = [10, 15, 20]\n",
    "for n in my_list:\n",
    "    print(3*n)"
   ]
  },
  {
   "cell_type": "code",
   "execution_count": 426,
   "id": "aa940298",
   "metadata": {},
   "outputs": [],
   "source": [
    "start_list = [5, 3, 1, 2, 4]\n",
    "square_list = []\n",
    "for x in start_list:\n",
    "    square_list.append(x**2)\n",
    "    square_list.sort()"
   ]
  },
  {
   "cell_type": "code",
   "execution_count": 427,
   "id": "f2f93e71",
   "metadata": {},
   "outputs": [
    {
     "name": "stdout",
     "output_type": "stream",
     "text": [
      "[1, 4, 9, 16, 25]\n"
     ]
    }
   ],
   "source": [
    "print (square_list)\n"
   ]
  },
  {
   "cell_type": "code",
   "execution_count": 429,
   "id": "05440c52",
   "metadata": {},
   "outputs": [
    {
     "name": "stdout",
     "output_type": "stream",
     "text": [
      "104\n",
      "105\n",
      "106\n"
     ]
    }
   ],
   "source": [
    "residents = {'Puffin' : 104, 'Sloth' : 105, 'Burmese Python' : 106}\n",
    "\n",
    "print (residents['Puffin']) # Prints Puffin's room number\n",
    "\n",
    "# Your code here!\n",
    "print (residents[\"Sloth\"])\n",
    "print (residents[\"Burmese Python\"])"
   ]
  },
  {
   "cell_type": "code",
   "execution_count": 440,
   "id": "7c83cb0f",
   "metadata": {},
   "outputs": [
    {
     "ename": "TypeError",
     "evalue": "FrequencyMap() missing 1 required positional argument: 'atc'",
     "output_type": "error",
     "traceback": [
      "\u001b[1;31m---------------------------------------------------------------------------\u001b[0m",
      "\u001b[1;31mTypeError\u001b[0m                                 Traceback (most recent call last)",
      "Input \u001b[1;32mIn [440]\u001b[0m, in \u001b[0;36m<cell line: 9>\u001b[1;34m()\u001b[0m\n\u001b[0;32m      7\u001b[0m     \u001b[38;5;66;03m# hint: your code goes here!\u001b[39;00m\n\u001b[0;32m      8\u001b[0m     \u001b[38;5;28;01mreturn\u001b[39;00m freq\n\u001b[1;32m----> 9\u001b[0m \u001b[38;5;28mprint\u001b[39m (\u001b[43mFrequencyMap\u001b[49m\u001b[43m(\u001b[49m\u001b[43mk\u001b[49m\u001b[43m)\u001b[49m)\n",
      "\u001b[1;31mTypeError\u001b[0m: FrequencyMap() missing 1 required positional argument: 'atc'"
     ]
    }
   ],
   "source": [
    "def FrequencyMap(atcatcatc, atc):\n",
    "    freq = {}\n",
    "    n = len(Text)\n",
    "    for i in range(n-k+1):\n",
    "        Pattern = Text[i:i+k]\n",
    "        freq[Pattern] = 0\n",
    "    # hint: your code goes here!\n",
    "    return freq\n",
    "print (FrequencyMap(k))"
   ]
  },
  {
   "cell_type": "code",
   "execution_count": null,
   "id": "1c7986f2",
   "metadata": {},
   "outputs": [],
   "source": []
  },
  {
   "cell_type": "code",
   "execution_count": 471,
   "id": "b2b6047a",
   "metadata": {},
   "outputs": [
    {
     "name": "stdout",
     "output_type": "stream",
     "text": [
      "14.5\n",
      "There are 4 items on the menu.\n",
      "{'Chicken Alfredo': 14.5, 'tacos': 15.0, 'gel': 2.0, 'soda': 1.0}\n"
     ]
    }
   ],
   "source": [
    "men = {} # Empty dictionary\n",
    "men['Chicken Alfredo'] = 14.50 # Adding new key-value pair\n",
    "print (men['Chicken Alfredo'])\n",
    "\n",
    "# Your code here: Add some dish-price pairs to menu!\n",
    "men['tacos'] = 15.00\n",
    "men ['gel'] = 2.00\n",
    "men ['soda']= 1.00\n",
    "\n",
    "print (\"There are \" + str(len(menu)) + \" items on the menu.\")\n",
    "print (menu)"
   ]
  },
  {
   "cell_type": "code",
   "execution_count": 482,
   "id": "ba014452",
   "metadata": {},
   "outputs": [
    {
     "name": "stdout",
     "output_type": "stream",
     "text": [
      "{'Atlantic Puffin': 'Arctic Exhibit', 'Rockhopper Penguin': 'Arctic Exhibit'}\n"
     ]
    }
   ],
   "source": [
    "zoo_animals = {\n",
    "  'Unicorn' : 'Cotton Candy House',\n",
    "  'Sloth' : 'Rainforest Exhibit',\n",
    "  'Bengal Tiger' : 'Jungle House',\n",
    "  'Atlantic Puffin' : 'Arctic Exhibit',\n",
    "  'Rockhopper Penguin' : 'Arctic Exhibit'\n",
    "}\n",
    "# A dictionary (or list) declaration may break across multiple lines\n",
    "\n",
    "# Removing the 'Unicorn' entry. (Unicorns are incredibly expensive.)\n",
    "del zoo_animals['Unicorn']\n",
    "\n",
    "# Your code here!\n",
    "del zoo_animals['Sloth'] \n",
    "del zoo_animals['Bengal Tiger']\n",
    "#del zoo_animals ['Rockhopper Penguin' : 'Antartica']\n",
    "\n",
    "\n",
    "print (zoo_animals)"
   ]
  },
  {
   "cell_type": "code",
   "execution_count": null,
   "id": "98a6811f",
   "metadata": {},
   "outputs": [],
   "source": []
  },
  {
   "cell_type": "code",
   "execution_count": 508,
   "id": "7170cf1b",
   "metadata": {},
   "outputs": [
    {
     "name": "stdout",
     "output_type": "stream",
     "text": [
      "{'gold': 550, 'pouch': ['flint', 'gemstone', 'twine'], 'backpack': ['bedroll', 'bread loaf', 'xylophone'], 'burlap bag': ['apple', 'small ruby', 'three-toed sloth'], 'pocket': ['seashell', 'strange berry', 'lint']}\n"
     ]
    }
   ],
   "source": [
    "inventory = {\n",
    "  'gold' : 500,\n",
    "  'pouch' : ['flint', 'twine', 'gemstone'], # Assigned a new list to 'pouch' key\n",
    "  'backpack' : ['xylophone','dagger', 'bedroll','bread loaf']\n",
    "}\n",
    "\n",
    "# Adding a key 'burlap bag' and assigning a list to it\n",
    "inventory['burlap bag'] = ['apple', 'small ruby', 'three-toed sloth']\n",
    "\n",
    "# Sorting the list found under the key 'pouch'\n",
    "inventory['pouch'].sort() \n",
    "\n",
    "# Your code here\n",
    "inventory['pocket']=['seashell', 'strange berry', 'lint']\n",
    "inventory['backpack'].sort()\n",
    "inventory['backpack'].remove('dagger')\n",
    "inventory['gold'] = inventory['gold'] + 50\n",
    "print (inventory)"
   ]
  },
  {
   "cell_type": "code",
   "execution_count": 513,
   "id": "0f89b730",
   "metadata": {},
   "outputs": [
    {
     "name": "stdout",
     "output_type": "stream",
     "text": [
      "1\n",
      "2\n",
      "3\n",
      "4\n",
      "5\n",
      "6\n",
      "7\n",
      "8\n",
      "9\n"
     ]
    }
   ],
   "source": [
    "Text = \"ATCTTATCTTATCGGATCTCATCAAATCGGATCCCATCATC\"\n",
    "Pattern = \"ATC\"\n",
    "count = 0\n",
    "\n",
    "for i in range(len(Text)-len(Pattern)+1):\n",
    "        if Text[i:i+len(Pattern)] == Pattern:\n",
    "            count = count+1 \n",
    "            print (count)"
   ]
  },
  {
   "cell_type": "code",
   "execution_count": 554,
   "id": "7f1b808e",
   "metadata": {},
   "outputs": [
    {
     "data": {
      "text/plain": [
       "{'TGA': 3,\n",
       " 'GAT': 3,\n",
       " 'ATG': 2,\n",
       " 'ATA': 3,\n",
       " 'TAT': 2,\n",
       " 'ATC': 1,\n",
       " 'TCC': 1,\n",
       " 'CCA': 1,\n",
       " 'CAT': 1,\n",
       " 'TAG': 1,\n",
       " 'AGC': 1,\n",
       " 'GCG': 1,\n",
       " 'CGA': 1}"
      ]
     },
     "execution_count": 554,
     "metadata": {},
     "output_type": "execute_result"
    }
   ],
   "source": [
    "Text = \"TGATGATATATCCATAGCGATGA\"\n",
    "k= 3\n",
    "\n",
    "def FrequencyMap(Text, k):\n",
    "    freq = {}\n",
    "    n = len(Text)\n",
    "    for i in range(n-k+1):\n",
    "        Pattern = Text[i:i+k]\n",
    "        freq[Pattern] = 0\n",
    "        count = 0        \n",
    "        for i in range(n-k+1):\n",
    "            if Text[i:i+k] == Pattern:\n",
    "                count = count+1\n",
    "            freq[Pattern] = count\n",
    "    return freq\n",
    "FrequencyMap(Text,int(k))"
   ]
  },
  {
   "cell_type": "code",
   "execution_count": null,
   "id": "fd10825e",
   "metadata": {},
   "outputs": [],
   "source": []
  },
  {
   "cell_type": "code",
   "execution_count": 551,
   "id": "d3d31e31",
   "metadata": {},
   "outputs": [
    {
     "data": {
      "text/plain": [
       "{'CGA': 1,\n",
       " 'GAT': 1,\n",
       " 'ATA': 3,\n",
       " 'TAT': 2,\n",
       " 'ATC': 1,\n",
       " 'TCC': 1,\n",
       " 'CCA': 1,\n",
       " 'CAT': 1,\n",
       " 'TAG': 1}"
      ]
     },
     "execution_count": 551,
     "metadata": {},
     "output_type": "execute_result"
    }
   ],
   "source": [
    "def FrequencyMap(Text, k):\n",
    "    freq = {}\n",
    "    n=len(Text)\n",
    "    for i in range(n-k+1):\n",
    "        Pattern=Text[i:i+k]\n",
    "        freq[Pattern] = 0\n",
    "        count=0\n",
    "        for i in range(n-k+1):\n",
    "            if Pattern == Text[i:i+k]:\n",
    "                count=count + 1\n",
    "            freq[Pattern]=count\n",
    "    return freq\n",
    "FrequencyMap(\"CGATATATCCATAG\",3)"
   ]
  },
  {
   "cell_type": "code",
   "execution_count": 555,
   "id": "8435342d",
   "metadata": {},
   "outputs": [],
   "source": [
    "def FrequencyMap(Text, k, maxfreq):\n",
    "    freq = {}\n",
    "    maxfreqlist = []\n",
    "    n = len(Text)\n",
    "    i = 0\n",
    "    for i in range(n-k+1):\n",
    "        Pattern = Text[i:i+k]\n",
    "        if Pattern not in freq:\n",
    "            freq[Pattern] = 1\n",
    "        elif Pattern in freq:\n",
    "            freq[Pattern] += 1\n",
    "    for Pattern in freq:\n",
    "        if freq[Pattern] <= maxfreq:\n",
    "            maxfreqlist.append(Pattern)\n",
    "    return maxfreqlist"
   ]
  },
  {
   "cell_type": "code",
   "execution_count": 20,
   "id": "ea19e8b1",
   "metadata": {},
   "outputs": [
    {
     "ename": "SyntaxError",
     "evalue": "f-string: unmatched '[' (4038256733.py, line 3)",
     "output_type": "error",
     "traceback": [
      "\u001b[1;36m  Input \u001b[1;32mIn [20]\u001b[1;36m\u001b[0m\n\u001b[1;33m    Aye = f'Hi {R['Jack'], do you have R['rum']. Where R['pearl']. Is R['barbosa'] alice?',}\u001b[0m\n\u001b[1;37m                   ^\u001b[0m\n\u001b[1;31mSyntaxError\u001b[0m\u001b[1;31m:\u001b[0m f-string: unmatched '['\n"
     ]
    }
   ],
   "source": [
    "R = {'Jack', \"rum\", \"pearl\", 'barbosa'}\n",
    "\n",
    "Aye = f'Hi {R['Jack'], do you have R['rum']. Where R['pearl']. Is R['barbosa'] alive?',}\n",
    "#f'Do you have {P}',\n",
    "# f'Where is the {Q}.'\n",
    "#f' Is {u} alive?'\n",
    "      #)\n",
    "print(Aye)\n"
   ]
  },
  {
   "cell_type": "code",
   "execution_count": 22,
   "id": "3205c3b0",
   "metadata": {},
   "outputs": [
    {
     "ename": "IndentationError",
     "evalue": "expected an indented block (3328731815.py, line 6)",
     "output_type": "error",
     "traceback": [
      "\u001b[1;36m  Input \u001b[1;32mIn [22]\u001b[1;36m\u001b[0m\n\u001b[1;33m    words = []\u001b[0m\n\u001b[1;37m    ^\u001b[0m\n\u001b[1;31mIndentationError\u001b[0m\u001b[1;31m:\u001b[0m expected an indented block\n"
     ]
    }
   ],
   "source": [
    "def FrequentWord(Text, k):\n",
    "    word[]\n",
    "    freq = FrequencyMap(Text, k)\n",
    "    m=max(freq.values())\n",
    "    for key in freq:\n",
    "        if freq[key] == m\n",
    "        \n"
   ]
  },
  {
   "cell_type": "code",
   "execution_count": 23,
   "id": "a7b4974d",
   "metadata": {},
   "outputs": [],
   "source": [
    "def FrequentWords(Text, k):\n",
    "    words = []\n",
    "    freq = FrequencyMap(Text, k)\n",
    "    m = max(freq.values())\n",
    "    for key in freq:\n",
    "        if freq[key] == m:\n",
    "            pattern = key\n",
    "            words.append(pattern)\n",
    "    return words\n",
    "\n",
    "def FrequencyMap(Text, k):\n",
    "    freq = {}\n",
    "    n = len(Text)\n",
    "    for i in range(n-k+1):\n",
    "        Pattern = Text[i:i+k]\n",
    "        freq[Pattern] = 0\n",
    "        for j in range(n-k+1):\n",
    "            if Pattern == Text[j:j+k]:\n",
    "                freq[Pattern] += 1\n",
    "    return freq"
   ]
  },
  {
   "cell_type": "code",
   "execution_count": 46,
   "id": "2558c8c8",
   "metadata": {},
   "outputs": [
    {
     "name": "stdout",
     "output_type": "stream",
     "text": [
      " 1 :  5\n",
      " 5 :  2\n",
      " 3 :  3\n",
      " 4 :  3\n",
      " 2 :  4\n",
      " 10 :  2\n"
     ]
    }
   ],
   "source": [
    " def countfrequency(my_list):\n",
    "    freq= {}\n",
    "    for items in (my_list):\n",
    "        if (items in freq):\n",
    "            freq[items]+= 1\n",
    "        else:\n",
    "            freq[items]= 1\n",
    "    for key, value in freq.items():\n",
    "        print (\"% d : % d\"%(key, value))\n",
    "if __name__ == \"__main__\":\n",
    "    my_list =[1, 1, 1, 5, 5, 3, 1, 3, 3, 1, 4, 4, 4, 2, 2, 2, 2, 10, 10]\n",
    " \n",
    "    countfrequency(my_list)\n",
    "       \n",
    "        \n",
    "            "
   ]
  },
  {
   "cell_type": "code",
   "execution_count": 51,
   "id": "89e60e57",
   "metadata": {},
   "outputs": [
    {
     "name": "stdout",
     "output_type": "stream",
     "text": [
      " 1 :  5\n",
      " 5 :  2\n",
      " 3 :  3\n",
      " 4 :  3\n",
      " 2 :  4\n",
      " 10 :  2\n"
     ]
    }
   ],
   "source": [
    "def Jack(rum_drinking_days):\n",
    "    Days={}\n",
    "    for OldMonk in (rum_drinking_days):\n",
    "        if (OldMonk in Days):\n",
    "            Days[OldMonk]+=1\n",
    "        else:\n",
    "            Days[OldMonk]=1\n",
    "    \n",
    "    for key, value in Days.OldMonk():\n",
    "        print (\"% d : % d\"%(key, value))\n",
    "if __name__ == \"__main__\":\n",
    "    rum_drinking_days =[1, 1, 1, 5, 5, 3, 1, 3, 3, 1, 4, 4, 4, 2, 2, 2, 2, 10, 10]\n",
    " \n",
    "    countfrequency(rum_drinking_days)"
   ]
  },
  {
   "cell_type": "code",
   "execution_count": 1,
   "id": "0ee53024",
   "metadata": {},
   "outputs": [],
   "source": [
    "import pandas as pd\n",
    "import matplotlib as plt\n",
    "import matplotlib.pyplot as plt\n",
    "import numpy as np \n",
    "import seaborn as sns"
   ]
  },
  {
   "cell_type": "code",
   "execution_count": 2,
   "id": "91bd46e0",
   "metadata": {},
   "outputs": [
    {
     "data": {
      "text/html": [
       "<div>\n",
       "<style scoped>\n",
       "    .dataframe tbody tr th:only-of-type {\n",
       "        vertical-align: middle;\n",
       "    }\n",
       "\n",
       "    .dataframe tbody tr th {\n",
       "        vertical-align: top;\n",
       "    }\n",
       "\n",
       "    .dataframe thead th {\n",
       "        text-align: right;\n",
       "    }\n",
       "</style>\n",
       "<table border=\"1\" class=\"dataframe\">\n",
       "  <thead>\n",
       "    <tr style=\"text-align: right;\">\n",
       "      <th></th>\n",
       "      <th>nDNASampleName</th>\n",
       "      <th>Plate#</th>\n",
       "      <th>LCInput(ng)</th>\n",
       "      <th>Yield(ng)</th>\n",
       "      <th>AT_Dropout</th>\n",
       "      <th>GC_Dropout</th>\n",
       "      <th>Mapped_Reads</th>\n",
       "      <th>Predicted_Gender</th>\n",
       "      <th>Proper_Pair</th>\n",
       "      <th>SD_Methyl_Position_Bias</th>\n",
       "      <th>Mean_Unique_Coverage</th>\n",
       "      <th>Conversion_E\\nff</th>\n",
       "      <th>ccmf_perfect</th>\n",
       "      <th>ctDNA_detected</th>\n",
       "      <th>Included in\\nStudy Analysis if\\npass</th>\n",
       "    </tr>\n",
       "  </thead>\n",
       "  <tbody>\n",
       "    <tr>\n",
       "      <th>0</th>\n",
       "      <td>PL002081</td>\n",
       "      <td>Plate4</td>\n",
       "      <td>12.40</td>\n",
       "      <td>187.4</td>\n",
       "      <td>5.924052</td>\n",
       "      <td>0.046</td>\n",
       "      <td>5,00,398,909</td>\n",
       "      <td>Male</td>\n",
       "      <td>92.46</td>\n",
       "      <td>0.02592</td>\n",
       "      <td>10.533</td>\n",
       "      <td>0.9940</td>\n",
       "      <td>0.000110</td>\n",
       "      <td>False</td>\n",
       "      <td>Specificity_longit</td>\n",
       "    </tr>\n",
       "    <tr>\n",
       "      <th>1</th>\n",
       "      <td>PL002215</td>\n",
       "      <td>Plate4</td>\n",
       "      <td>7.25</td>\n",
       "      <td>101.7</td>\n",
       "      <td>10.132838</td>\n",
       "      <td>0.000</td>\n",
       "      <td>5,79838163</td>\n",
       "      <td>Male</td>\n",
       "      <td>73.58</td>\n",
       "      <td>0.02066</td>\n",
       "      <td>8.448</td>\n",
       "      <td>0.9941</td>\n",
       "      <td>0.000129</td>\n",
       "      <td>False</td>\n",
       "      <td>longit</td>\n",
       "    </tr>\n",
       "    <tr>\n",
       "      <th>2</th>\n",
       "      <td>PL003167</td>\n",
       "      <td>Plate4</td>\n",
       "      <td>10.30</td>\n",
       "      <td>301.5</td>\n",
       "      <td>10.308737</td>\n",
       "      <td>0.018</td>\n",
       "      <td>4,37853452</td>\n",
       "      <td>Male</td>\n",
       "      <td>89.74</td>\n",
       "      <td>0.02414</td>\n",
       "      <td>9.385</td>\n",
       "      <td>0.9938</td>\n",
       "      <td>0.000032</td>\n",
       "      <td>False</td>\n",
       "      <td>Specificity_longit</td>\n",
       "    </tr>\n",
       "    <tr>\n",
       "      <th>3</th>\n",
       "      <td>PL003305</td>\n",
       "      <td>Plate4</td>\n",
       "      <td>10.95</td>\n",
       "      <td>172.1</td>\n",
       "      <td>7.497906</td>\n",
       "      <td>0.027</td>\n",
       "      <td>5,8750551</td>\n",
       "      <td>Male</td>\n",
       "      <td>85.61</td>\n",
       "      <td>0.01975</td>\n",
       "      <td>9.726</td>\n",
       "      <td>0.9938</td>\n",
       "      <td>0.000053</td>\n",
       "      <td>False</td>\n",
       "      <td>Specificity_longit</td>\n",
       "    </tr>\n",
       "    <tr>\n",
       "      <th>4</th>\n",
       "      <td>PL003343</td>\n",
       "      <td>Plate4</td>\n",
       "      <td>15.65</td>\n",
       "      <td>519.7</td>\n",
       "      <td>7.764377</td>\n",
       "      <td>0.058</td>\n",
       "      <td>4,33470070</td>\n",
       "      <td>Male</td>\n",
       "      <td>92.42</td>\n",
       "      <td>0.02164</td>\n",
       "      <td>10.124</td>\n",
       "      <td>0.9945</td>\n",
       "      <td>0.000035</td>\n",
       "      <td>False</td>\n",
       "      <td>Specificity_longit</td>\n",
       "    </tr>\n",
       "  </tbody>\n",
       "</table>\n",
       "</div>"
      ],
      "text/plain": [
       "  nDNASampleName  Plate#  LCInput(ng)  Yield(ng) AT_Dropout  GC_Dropout  \\\n",
       "0       PL002081  Plate4        12.40      187.4   5.924052       0.046   \n",
       "1       PL002215  Plate4         7.25      101.7  10.132838       0.000   \n",
       "2       PL003167  Plate4        10.30      301.5  10.308737       0.018   \n",
       "3       PL003305  Plate4        10.95      172.1   7.497906       0.027   \n",
       "4       PL003343  Plate4        15.65      519.7   7.764377       0.058   \n",
       "\n",
       "   Mapped_Reads Predicted_Gender  Proper_Pair  SD_Methyl_Position_Bias  \\\n",
       "0  5,00,398,909             Male        92.46                  0.02592   \n",
       "1    5,79838163             Male        73.58                  0.02066   \n",
       "2    4,37853452             Male        89.74                  0.02414   \n",
       "3     5,8750551             Male        85.61                  0.01975   \n",
       "4    4,33470070             Male        92.42                  0.02164   \n",
       "\n",
       "   Mean_Unique_Coverage  Conversion_E\\nff  ccmf_perfect ctDNA_detected  \\\n",
       "0                10.533            0.9940      0.000110          False   \n",
       "1                 8.448            0.9941      0.000129          False   \n",
       "2                 9.385            0.9938      0.000032          False   \n",
       "3                 9.726            0.9938      0.000053          False   \n",
       "4                10.124            0.9945      0.000035          False   \n",
       "\n",
       "  Included in\\nStudy Analysis if\\npass  \n",
       "0                   Specificity_longit  \n",
       "1                               longit  \n",
       "2                   Specificity_longit  \n",
       "3                   Specificity_longit  \n",
       "4                   Specificity_longit  "
      ]
     },
     "execution_count": 2,
     "metadata": {},
     "output_type": "execute_result"
    }
   ],
   "source": [
    "df= pd.read_excel('C:\\\\Users\\\\rratnappan\\\\Documents\\\\Confera\\\\Attachment07_DevConfirmationSampleSummary.xlsx')\n",
    "df.head()"
   ]
  },
  {
   "cell_type": "code",
   "execution_count": 17,
   "id": "621e2dcf",
   "metadata": {},
   "outputs": [
    {
     "ename": "AttributeError",
     "evalue": "'DataFrame' object has no attribute 'row'",
     "output_type": "error",
     "traceback": [
      "\u001b[1;31m---------------------------------------------------------------------------\u001b[0m",
      "\u001b[1;31mAttributeError\u001b[0m                            Traceback (most recent call last)",
      "Input \u001b[1;32mIn [17]\u001b[0m, in \u001b[0;36m<cell line: 1>\u001b[1;34m()\u001b[0m\n\u001b[1;32m----> 1\u001b[0m \u001b[43mdf\u001b[49m\u001b[38;5;241;43m.\u001b[39;49m\u001b[43mrow\u001b[49m(\u001b[38;5;241m8\u001b[39m)\n",
      "File \u001b[1;32m~\\Anaconda3\\lib\\site-packages\\pandas\\core\\generic.py:5575\u001b[0m, in \u001b[0;36mNDFrame.__getattr__\u001b[1;34m(self, name)\u001b[0m\n\u001b[0;32m   5568\u001b[0m \u001b[38;5;28;01mif\u001b[39;00m (\n\u001b[0;32m   5569\u001b[0m     name \u001b[38;5;129;01mnot\u001b[39;00m \u001b[38;5;129;01min\u001b[39;00m \u001b[38;5;28mself\u001b[39m\u001b[38;5;241m.\u001b[39m_internal_names_set\n\u001b[0;32m   5570\u001b[0m     \u001b[38;5;129;01mand\u001b[39;00m name \u001b[38;5;129;01mnot\u001b[39;00m \u001b[38;5;129;01min\u001b[39;00m \u001b[38;5;28mself\u001b[39m\u001b[38;5;241m.\u001b[39m_metadata\n\u001b[0;32m   5571\u001b[0m     \u001b[38;5;129;01mand\u001b[39;00m name \u001b[38;5;129;01mnot\u001b[39;00m \u001b[38;5;129;01min\u001b[39;00m \u001b[38;5;28mself\u001b[39m\u001b[38;5;241m.\u001b[39m_accessors\n\u001b[0;32m   5572\u001b[0m     \u001b[38;5;129;01mand\u001b[39;00m \u001b[38;5;28mself\u001b[39m\u001b[38;5;241m.\u001b[39m_info_axis\u001b[38;5;241m.\u001b[39m_can_hold_identifiers_and_holds_name(name)\n\u001b[0;32m   5573\u001b[0m ):\n\u001b[0;32m   5574\u001b[0m     \u001b[38;5;28;01mreturn\u001b[39;00m \u001b[38;5;28mself\u001b[39m[name]\n\u001b[1;32m-> 5575\u001b[0m \u001b[38;5;28;01mreturn\u001b[39;00m \u001b[38;5;28;43mobject\u001b[39;49m\u001b[38;5;241;43m.\u001b[39;49m\u001b[38;5;21;43m__getattribute__\u001b[39;49m\u001b[43m(\u001b[49m\u001b[38;5;28;43mself\u001b[39;49m\u001b[43m,\u001b[49m\u001b[43m \u001b[49m\u001b[43mname\u001b[49m\u001b[43m)\u001b[49m\n",
      "\u001b[1;31mAttributeError\u001b[0m: 'DataFrame' object has no attribute 'row'"
     ]
    }
   ],
   "source": [
    "df.row(8)"
   ]
  },
  {
   "cell_type": "code",
   "execution_count": 19,
   "id": "523f4786",
   "metadata": {},
   "outputs": [
    {
     "name": "stdout",
     "output_type": "stream",
     "text": [
      "Enter 1 to search by Gender\n",
      "Enter 2 to search by ctDNA_detected\n",
      "Enter_here: 1\n",
      "Predicted_Gender : Male\n"
     ]
    },
    {
     "ename": "IndexError",
     "evalue": "string index out of range",
     "output_type": "error",
     "traceback": [
      "\u001b[1;31m---------------------------------------------------------------------------\u001b[0m",
      "\u001b[1;31mIndexError\u001b[0m                                Traceback (most recent call last)",
      "Input \u001b[1;32mIn [19]\u001b[0m, in \u001b[0;36m<cell line: 24>\u001b[1;34m()\u001b[0m\n\u001b[0;32m     23\u001b[0m src  \u001b[38;5;241m=\u001b[39m \u001b[38;5;28mint\u001b[39m(\u001b[38;5;28minput\u001b[39m (\u001b[38;5;124m'\u001b[39m\u001b[38;5;124mEnter_here: \u001b[39m\u001b[38;5;124m'\u001b[39m))\n\u001b[0;32m     24\u001b[0m \u001b[38;5;28;01mif\u001b[39;00m src \u001b[38;5;241m==\u001b[39m \u001b[38;5;241m1\u001b[39m:\n\u001b[1;32m---> 25\u001b[0m     \u001b[43msearch_by_Predicted_Gender\u001b[49m\u001b[43m(\u001b[49m\u001b[43m)\u001b[49m\n\u001b[0;32m     26\u001b[0m \u001b[38;5;28;01melif\u001b[39;00m src \u001b[38;5;241m==\u001b[39m \u001b[38;5;241m2\u001b[39m:\n\u001b[0;32m     27\u001b[0m     search_by_Predicted_Gender()\n",
      "Input \u001b[1;32mIn [19]\u001b[0m, in \u001b[0;36msearch_by_Predicted_Gender\u001b[1;34m()\u001b[0m\n\u001b[0;32m      4\u001b[0m DF \u001b[38;5;241m=\u001b[39m df\n\u001b[0;32m      6\u001b[0m \u001b[38;5;28;01mfor\u001b[39;00m row \u001b[38;5;129;01min\u001b[39;00m df:\n\u001b[1;32m----> 7\u001b[0m     \u001b[38;5;28;01mif\u001b[39;00m Predicted_Gender \u001b[38;5;129;01min\u001b[39;00m \u001b[43mrow\u001b[49m\u001b[43m[\u001b[49m\u001b[38;5;241;43m7\u001b[39;49m\u001b[43m]\u001b[49m:\n\u001b[0;32m      8\u001b[0m         \u001b[38;5;28mprint\u001b[39m(row)\n",
      "\u001b[1;31mIndexError\u001b[0m: string index out of range"
     ]
    }
   ],
   "source": [
    "# Function to search by column name\n",
    "def search_by_Predicted_Gender():\n",
    "    Predicted_Gender = input(\"Predicted_Gender : \")\n",
    "    DF = df\n",
    "    \n",
    "    for row in df:\n",
    "        if Predicted_Gender in row[7]:\n",
    "            print(row)\n",
    "\n",
    "            \n",
    "def search_by_ctDNA_detected():\n",
    "    ctDNA_detected = input(\"ctDNA : \")\n",
    "    DF = df\n",
    "    \n",
    "    for row in df:\n",
    "        if ctDNA_detected in row[13]:\n",
    "            print(row)\n",
    "\n",
    "print('Enter 1 to search by Gender')\n",
    "print('Enter 2 to search by ctDNA_detected')\n",
    "\n",
    "\n",
    "src  = int(input ('Enter_here: '))\n",
    "if src == 1:\n",
    "    search_by_Predicted_Gender()\n",
    "elif src == 2:\n",
    "    search_by_Predicted_Gender()\n",
    "else:\n",
    "    print (\"Sorry\")\n",
    "\n"
   ]
  },
  {
   "cell_type": "code",
   "execution_count": 2,
   "id": "509b9b86",
   "metadata": {},
   "outputs": [],
   "source": [
    "from xlsxwriter import Workbook\n",
    "import pandas as pd\n",
    "import openpyxl\n",
    "import glob\n",
    "import os"
   ]
  },
  {
   "cell_type": "code",
   "execution_count": 7,
   "id": "4a331bab",
   "metadata": {},
   "outputs": [
    {
     "name": "stdout",
     "output_type": "stream",
     "text": [
      "0-Plate1-F1L_Confera_CAM_precision_plate2.merged_results.csv\n",
      "4-230224_A01216_0235_BHCHMMDSX5.0.7.2.results.csv\n"
     ]
    }
   ],
   "source": [
    "for files in os.listdir('C:/Users/rratnappan/Documents/Test_Data_Python/Precision'):\n",
    "    print (files)"
   ]
  },
  {
   "cell_type": "code",
   "execution_count": 10,
   "id": "2ba86b87",
   "metadata": {},
   "outputs": [
    {
     "name": "stdout",
     "output_type": "stream",
     "text": [
      "0-Plate1-F1L_Confera_CAM_precision_plate2.merged_results.csv\n",
      "                       sample  Unnamed: 1  Unnamed: 2  Unnamed: 3  wig_suffix  \\\n",
      "0    ORD-0908729-01_0p5_Rep-1         NaN         NaN         NaN         NaN   \n",
      "1    ORD-0908729-01_0p5_Rep-2         NaN         NaN         NaN         NaN   \n",
      "2      ORD-0908729-01_1_Rep-1         NaN         NaN         NaN         NaN   \n",
      "3      ORD-0908729-01_1_Rep-2         NaN         NaN         NaN         NaN   \n",
      "4   ORD-0908729-01_Neat_Rep-1         NaN         NaN         NaN         NaN   \n",
      "..                        ...         ...         ...         ...         ...   \n",
      "59   ORD-1121288-03_0p5_Rep-1         NaN         NaN         NaN         NaN   \n",
      "60                   PMC-1_A1         NaN         NaN         NaN         NaN   \n",
      "61                   PMC-2_A2         NaN         NaN         NaN         NaN   \n",
      "62      ScreenedHD_Neat_Rep-1         NaN         NaN         NaN         NaN   \n",
      "63      ScreenedHD_Neat_Rep-2         NaN         NaN         NaN         NaN   \n",
      "\n",
      "    ichor_suffix  cna_detectable  cna_extent  cna_extent_clonal  \\\n",
      "0      allstates           False    0.000000           0.000000   \n",
      "1      allstates           False    0.000000           0.000000   \n",
      "2      allstates           False    0.000000           0.000000   \n",
      "3      allstates           False    0.000000           0.000000   \n",
      "4   clonalstates            True    0.164154           0.164154   \n",
      "..           ...             ...         ...                ...   \n",
      "59     allstates           False    0.000000           0.000000   \n",
      "60     allstates           False    0.000000           0.000000   \n",
      "61     allstates           False    0.000000           0.000000   \n",
      "62     allstates           False    0.000000           0.000000   \n",
      "63     allstates           False    0.000000           0.000000   \n",
      "\n",
      "    cna_tumor_fraction  ...  ccuf_majority  ccmf_majority  ccmf_near_perfect  \\\n",
      "0               0.0000  ...       0.998013       0.001987           0.000234   \n",
      "1               0.0000  ...       0.998683       0.001317           0.000146   \n",
      "2               0.0000  ...       0.998451       0.001550           0.000034   \n",
      "3               0.0000  ...       0.998260       0.001740           0.000258   \n",
      "4               0.9524  ...       0.976408       0.023592           0.002012   \n",
      "..                 ...  ...            ...            ...                ...   \n",
      "59              0.0000  ...       0.997116       0.002884           0.000979   \n",
      "60              0.0000  ...       0.996846       0.003154           0.000738   \n",
      "61              0.0000  ...       0.997134       0.002866           0.000625   \n",
      "62              0.0000  ...       0.998295       0.001705           0.000215   \n",
      "63              0.0000  ...       0.998367       0.001633           0.000238   \n",
      "\n",
      "    ccmf_perfect  ccmf_threshold  ctDNA_methylation_detected  is_pmc  qc_pass  \\\n",
      "0       0.000093        0.000308                       False   False     True   \n",
      "1       0.000037        0.000308                       False   False     True   \n",
      "2       0.000000        0.000308                       False   False     True   \n",
      "3       0.000064        0.000308                       False   False     True   \n",
      "4       0.000700        0.000308                        True   False     True   \n",
      "..           ...             ...                         ...     ...      ...   \n",
      "59      0.000363        0.000308                        True   False     True   \n",
      "60      0.000134        0.000321                       False    True     True   \n",
      "61      0.000104        0.000321                       False    True     True   \n",
      "62      0.000108        0.000308                       False   False     True   \n",
      "63      0.000136        0.000308                       False   False     True   \n",
      "\n",
      "    ctDNA_detected  pmc_pass  \n",
      "0            False       NaN  \n",
      "1            False       NaN  \n",
      "2            False       NaN  \n",
      "3            False       NaN  \n",
      "4             True       NaN  \n",
      "..             ...       ...  \n",
      "59            True       NaN  \n",
      "60           False      True  \n",
      "61           False      True  \n",
      "62           False       NaN  \n",
      "63           False       NaN  \n",
      "\n",
      "[64 rows x 85 columns]\n",
      "4-230224_A01216_0235_BHCHMMDSX5.0.7.2.results.csv\n",
      "                         sample_name                 Unnamed: 1  \\\n",
      "0    ORD-0908729-01_0p5_Rep-1_Plate4                        NaN   \n",
      "1    ORD-0908729-01_0p5_Rep-2_Plate4                        NaN   \n",
      "2      ORD-0908729-01_1_Rep-1_Plate4                        NaN   \n",
      "3      ORD-0908729-01_1_Rep-2_Plate4                        NaN   \n",
      "4   ORD-0908729-01_Neat_Rep-1_Plate4                        NaN   \n",
      "..                               ...                        ...   \n",
      "57  ORD-1121288-01_Neat_Rep-2_Plate4  ORD-1121288-01_Neat_Rep-2   \n",
      "58     ORD-1121288-02_1_Rep-1_Plate4     ORD-1121288-02_1_Rep-1   \n",
      "59   ORD-1121288-03_0p5_Rep-1_Plate4   ORD-1121288-03_0p5_Rep-1   \n",
      "60              PMC_Neat_Rep1_Plate4              PMC_Neat_Rep1   \n",
      "61              PMC_Neat_Rep2_Plate4              PMC_Neat_Rep2   \n",
      "\n",
      "           sample_name-Plate4  Unnamed: 3  Unnamed: 4  Unnamed: 5  wig_suffix  \\\n",
      "0    ORD-0908729-01_0p5_Rep-1         NaN         NaN         NaN         NaN   \n",
      "1    ORD-0908729-01_0p5_Rep-2         NaN         NaN         NaN         NaN   \n",
      "2      ORD-0908729-01_1_Rep-1         NaN         NaN         NaN         NaN   \n",
      "3      ORD-0908729-01_1_Rep-2         NaN         NaN         NaN         NaN   \n",
      "4   ORD-0908729-01_Neat_Rep-1         NaN         NaN         NaN         NaN   \n",
      "..                        ...         ...         ...         ...         ...   \n",
      "57  ORD-1121288-01_Neat_Rep-2         NaN         NaN         NaN         NaN   \n",
      "58     ORD-1121288-02_1_Rep-1         NaN         NaN         NaN         NaN   \n",
      "59   ORD-1121288-03_0p5_Rep-1         NaN         NaN         NaN         NaN   \n",
      "60                   PMC-1_A1         NaN         NaN         NaN         NaN   \n",
      "61                   PMC-2_A2         NaN         NaN         NaN         NaN   \n",
      "\n",
      "    ichor_suffix  cna_detectable  cna_extent  ...  ccuf_majority  \\\n",
      "0      allstates           False    0.000000  ...       0.998387   \n",
      "1      allstates           False    0.000000  ...       0.998062   \n",
      "2      allstates           False    0.000000  ...       0.998131   \n",
      "3      allstates           False    0.000000  ...       0.998004   \n",
      "4   clonalstates            True    0.164154  ...       0.977175   \n",
      "..           ...             ...         ...  ...            ...   \n",
      "57     allstates            True    0.672320  ...       0.836540   \n",
      "58     allstates           False    0.000000  ...       0.994722   \n",
      "59     allstates           False    0.000000  ...       0.996647   \n",
      "60     allstates           False    0.000000  ...       0.996831   \n",
      "61     allstates           False    0.000000  ...       0.996261   \n",
      "\n",
      "    ccmf_majority  ccmf_near_perfect  ccmf_perfect  ccmf_threshold  \\\n",
      "0        0.001613           0.000107      0.000043        0.000308   \n",
      "1        0.001938           0.000145      0.000116        0.000308   \n",
      "2        0.001869           0.000106      0.000021        0.000308   \n",
      "3        0.001996           0.000338      0.000061        0.000308   \n",
      "4        0.022825           0.002463      0.000739        0.000308   \n",
      "..            ...                ...           ...             ...   \n",
      "57       0.163460           0.119665      0.076607        0.000308   \n",
      "58       0.005278           0.002808      0.001820        0.000308   \n",
      "59       0.003353           0.001341      0.000657        0.000308   \n",
      "60       0.003169           0.000839      0.000174        0.000321   \n",
      "61       0.003739           0.000728      0.000033        0.000321   \n",
      "\n",
      "    ctDNA_methylation_detected  is_pmc  qc_pass  ctDNA_detected  pmc_pass  \n",
      "0                        False   False     True           False       NaN  \n",
      "1                        False   False     True           False       NaN  \n",
      "2                        False   False     True           False       NaN  \n",
      "3                        False   False     True           False       NaN  \n",
      "4                         True   False     True            True       NaN  \n",
      "..                         ...     ...      ...             ...       ...  \n",
      "57                        True   False     True            True       NaN  \n",
      "58                        True   False     True            True       NaN  \n",
      "59                        True   False     True            True       NaN  \n",
      "60                       False    True     True           False      True  \n",
      "61                       False    True     True           False      True  \n",
      "\n",
      "[62 rows x 87 columns]\n"
     ]
    }
   ],
   "source": [
    "os.chdir('C:/Users/rratnappan/Documents/Test_Data_Python/Precision')\n",
    "for files in os.listdir('C:/Users/rratnappan/Documents/Test_Data_Python/Precision'):\n",
    "    print(files)\n",
    "    file = pd.read_csv(files)\n",
    "    print(file)"
   ]
  },
  {
   "cell_type": "code",
   "execution_count": null,
   "id": "87046fff",
   "metadata": {},
   "outputs": [],
   "source": []
  }
 ],
 "metadata": {
  "kernelspec": {
   "display_name": "Python 3 (ipykernel)",
   "language": "python",
   "name": "python3"
  },
  "language_info": {
   "codemirror_mode": {
    "name": "ipython",
    "version": 3
   },
   "file_extension": ".py",
   "mimetype": "text/x-python",
   "name": "python",
   "nbconvert_exporter": "python",
   "pygments_lexer": "ipython3",
   "version": "3.9.12"
  }
 },
 "nbformat": 4,
 "nbformat_minor": 5
}
